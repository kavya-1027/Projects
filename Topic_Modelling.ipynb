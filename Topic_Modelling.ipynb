{
  "nbformat": 4,
  "nbformat_minor": 0,
  "metadata": {
    "colab": {
      "provenance": []
    },
    "kernelspec": {
      "name": "python3",
      "display_name": "Python 3"
    },
    "language_info": {
      "name": "python"
    }
  },
  "cells": [
    {
      "cell_type": "code",
      "source": [
        "!pip3 install spacy"
      ],
      "metadata": {
        "colab": {
          "base_uri": "https://localhost:8080/"
        },
        "id": "JFc_4KRa9V57",
        "outputId": "ab84df54-0747-4f91-9b89-c9ba20ae9cfe"
      },
      "execution_count": 25,
      "outputs": [
        {
          "output_type": "stream",
          "name": "stdout",
          "text": [
            "Looking in indexes: https://pypi.org/simple, https://us-python.pkg.dev/colab-wheels/public/simple/\n",
            "Requirement already satisfied: spacy in /usr/local/lib/python3.10/dist-packages (3.5.2)\n",
            "Requirement already satisfied: spacy-legacy<3.1.0,>=3.0.11 in /usr/local/lib/python3.10/dist-packages (from spacy) (3.0.12)\n",
            "Requirement already satisfied: spacy-loggers<2.0.0,>=1.0.0 in /usr/local/lib/python3.10/dist-packages (from spacy) (1.0.4)\n",
            "Requirement already satisfied: murmurhash<1.1.0,>=0.28.0 in /usr/local/lib/python3.10/dist-packages (from spacy) (1.0.9)\n",
            "Requirement already satisfied: cymem<2.1.0,>=2.0.2 in /usr/local/lib/python3.10/dist-packages (from spacy) (2.0.7)\n",
            "Requirement already satisfied: preshed<3.1.0,>=3.0.2 in /usr/local/lib/python3.10/dist-packages (from spacy) (3.0.8)\n",
            "Requirement already satisfied: thinc<8.2.0,>=8.1.8 in /usr/local/lib/python3.10/dist-packages (from spacy) (8.1.9)\n",
            "Requirement already satisfied: wasabi<1.2.0,>=0.9.1 in /usr/local/lib/python3.10/dist-packages (from spacy) (1.1.1)\n",
            "Requirement already satisfied: srsly<3.0.0,>=2.4.3 in /usr/local/lib/python3.10/dist-packages (from spacy) (2.4.6)\n",
            "Requirement already satisfied: catalogue<2.1.0,>=2.0.6 in /usr/local/lib/python3.10/dist-packages (from spacy) (2.0.8)\n",
            "Requirement already satisfied: typer<0.8.0,>=0.3.0 in /usr/local/lib/python3.10/dist-packages (from spacy) (0.7.0)\n",
            "Requirement already satisfied: pathy>=0.10.0 in /usr/local/lib/python3.10/dist-packages (from spacy) (0.10.1)\n",
            "Requirement already satisfied: smart-open<7.0.0,>=5.2.1 in /usr/local/lib/python3.10/dist-packages (from spacy) (6.3.0)\n",
            "Requirement already satisfied: tqdm<5.0.0,>=4.38.0 in /usr/local/lib/python3.10/dist-packages (from spacy) (4.65.0)\n",
            "Requirement already satisfied: numpy>=1.15.0 in /usr/local/lib/python3.10/dist-packages (from spacy) (1.25.0)\n",
            "Requirement already satisfied: requests<3.0.0,>=2.13.0 in /usr/local/lib/python3.10/dist-packages (from spacy) (2.27.1)\n",
            "Requirement already satisfied: pydantic!=1.8,!=1.8.1,<1.11.0,>=1.7.4 in /usr/local/lib/python3.10/dist-packages (from spacy) (1.10.7)\n",
            "Requirement already satisfied: jinja2 in /usr/local/lib/python3.10/dist-packages (from spacy) (3.1.2)\n",
            "Requirement already satisfied: setuptools in /usr/local/lib/python3.10/dist-packages (from spacy) (67.7.2)\n",
            "Requirement already satisfied: packaging>=20.0 in /usr/local/lib/python3.10/dist-packages (from spacy) (23.1)\n",
            "Requirement already satisfied: langcodes<4.0.0,>=3.2.0 in /usr/local/lib/python3.10/dist-packages (from spacy) (3.3.0)\n",
            "Requirement already satisfied: typing-extensions>=4.2.0 in /usr/local/lib/python3.10/dist-packages (from pydantic!=1.8,!=1.8.1,<1.11.0,>=1.7.4->spacy) (4.5.0)\n",
            "Requirement already satisfied: urllib3<1.27,>=1.21.1 in /usr/local/lib/python3.10/dist-packages (from requests<3.0.0,>=2.13.0->spacy) (1.26.15)\n",
            "Requirement already satisfied: certifi>=2017.4.17 in /usr/local/lib/python3.10/dist-packages (from requests<3.0.0,>=2.13.0->spacy) (2022.12.7)\n",
            "Requirement already satisfied: charset-normalizer~=2.0.0 in /usr/local/lib/python3.10/dist-packages (from requests<3.0.0,>=2.13.0->spacy) (2.0.12)\n",
            "Requirement already satisfied: idna<4,>=2.5 in /usr/local/lib/python3.10/dist-packages (from requests<3.0.0,>=2.13.0->spacy) (3.4)\n",
            "Requirement already satisfied: blis<0.8.0,>=0.7.8 in /usr/local/lib/python3.10/dist-packages (from thinc<8.2.0,>=8.1.8->spacy) (0.7.9)\n",
            "Requirement already satisfied: confection<1.0.0,>=0.0.1 in /usr/local/lib/python3.10/dist-packages (from thinc<8.2.0,>=8.1.8->spacy) (0.0.4)\n",
            "Requirement already satisfied: click<9.0.0,>=7.1.1 in /usr/local/lib/python3.10/dist-packages (from typer<0.8.0,>=0.3.0->spacy) (8.1.3)\n",
            "Requirement already satisfied: MarkupSafe>=2.0 in /usr/local/lib/python3.10/dist-packages (from jinja2->spacy) (2.1.2)\n"
          ]
        }
      ]
    },
    {
      "cell_type": "code",
      "source": [
        "!python3 -m spacy download en"
      ],
      "metadata": {
        "colab": {
          "base_uri": "https://localhost:8080/"
        },
        "id": "jDEM_5mIOBRR",
        "outputId": "4173cf3d-08cb-4de8-d8ff-dd4850bb73e1"
      },
      "execution_count": 26,
      "outputs": [
        {
          "output_type": "stream",
          "name": "stdout",
          "text": [
            "2023-06-18 11:41:24.033899: W tensorflow/compiler/tf2tensorrt/utils/py_utils.cc:38] TF-TRT Warning: Could not find TensorRT\n",
            "\u001b[38;5;3m⚠ As of spaCy v3.0, shortcuts like 'en' are deprecated. Please use the\n",
            "full pipeline package name 'en_core_web_sm' instead.\u001b[0m\n",
            "Looking in indexes: https://pypi.org/simple, https://us-python.pkg.dev/colab-wheels/public/simple/\n",
            "Collecting en-core-web-sm==3.5.0\n",
            "  Downloading https://github.com/explosion/spacy-models/releases/download/en_core_web_sm-3.5.0/en_core_web_sm-3.5.0-py3-none-any.whl (12.8 MB)\n",
            "\u001b[2K     \u001b[90m━━━━━━━━━━━━━━━━━━━━━━━━━━━━━━━━━━━━━━━━\u001b[0m \u001b[32m12.8/12.8 MB\u001b[0m \u001b[31m34.7 MB/s\u001b[0m eta \u001b[36m0:00:00\u001b[0m\n",
            "\u001b[?25hRequirement already satisfied: spacy<3.6.0,>=3.5.0 in /usr/local/lib/python3.10/dist-packages (from en-core-web-sm==3.5.0) (3.5.2)\n",
            "Requirement already satisfied: spacy-legacy<3.1.0,>=3.0.11 in /usr/local/lib/python3.10/dist-packages (from spacy<3.6.0,>=3.5.0->en-core-web-sm==3.5.0) (3.0.12)\n",
            "Requirement already satisfied: spacy-loggers<2.0.0,>=1.0.0 in /usr/local/lib/python3.10/dist-packages (from spacy<3.6.0,>=3.5.0->en-core-web-sm==3.5.0) (1.0.4)\n",
            "Requirement already satisfied: murmurhash<1.1.0,>=0.28.0 in /usr/local/lib/python3.10/dist-packages (from spacy<3.6.0,>=3.5.0->en-core-web-sm==3.5.0) (1.0.9)\n",
            "Requirement already satisfied: cymem<2.1.0,>=2.0.2 in /usr/local/lib/python3.10/dist-packages (from spacy<3.6.0,>=3.5.0->en-core-web-sm==3.5.0) (2.0.7)\n",
            "Requirement already satisfied: preshed<3.1.0,>=3.0.2 in /usr/local/lib/python3.10/dist-packages (from spacy<3.6.0,>=3.5.0->en-core-web-sm==3.5.0) (3.0.8)\n",
            "Requirement already satisfied: thinc<8.2.0,>=8.1.8 in /usr/local/lib/python3.10/dist-packages (from spacy<3.6.0,>=3.5.0->en-core-web-sm==3.5.0) (8.1.9)\n",
            "Requirement already satisfied: wasabi<1.2.0,>=0.9.1 in /usr/local/lib/python3.10/dist-packages (from spacy<3.6.0,>=3.5.0->en-core-web-sm==3.5.0) (1.1.1)\n",
            "Requirement already satisfied: srsly<3.0.0,>=2.4.3 in /usr/local/lib/python3.10/dist-packages (from spacy<3.6.0,>=3.5.0->en-core-web-sm==3.5.0) (2.4.6)\n",
            "Requirement already satisfied: catalogue<2.1.0,>=2.0.6 in /usr/local/lib/python3.10/dist-packages (from spacy<3.6.0,>=3.5.0->en-core-web-sm==3.5.0) (2.0.8)\n",
            "Requirement already satisfied: typer<0.8.0,>=0.3.0 in /usr/local/lib/python3.10/dist-packages (from spacy<3.6.0,>=3.5.0->en-core-web-sm==3.5.0) (0.7.0)\n",
            "Requirement already satisfied: pathy>=0.10.0 in /usr/local/lib/python3.10/dist-packages (from spacy<3.6.0,>=3.5.0->en-core-web-sm==3.5.0) (0.10.1)\n",
            "Requirement already satisfied: smart-open<7.0.0,>=5.2.1 in /usr/local/lib/python3.10/dist-packages (from spacy<3.6.0,>=3.5.0->en-core-web-sm==3.5.0) (6.3.0)\n",
            "Requirement already satisfied: tqdm<5.0.0,>=4.38.0 in /usr/local/lib/python3.10/dist-packages (from spacy<3.6.0,>=3.5.0->en-core-web-sm==3.5.0) (4.65.0)\n",
            "Requirement already satisfied: numpy>=1.15.0 in /usr/local/lib/python3.10/dist-packages (from spacy<3.6.0,>=3.5.0->en-core-web-sm==3.5.0) (1.25.0)\n",
            "Requirement already satisfied: requests<3.0.0,>=2.13.0 in /usr/local/lib/python3.10/dist-packages (from spacy<3.6.0,>=3.5.0->en-core-web-sm==3.5.0) (2.27.1)\n",
            "Requirement already satisfied: pydantic!=1.8,!=1.8.1,<1.11.0,>=1.7.4 in /usr/local/lib/python3.10/dist-packages (from spacy<3.6.0,>=3.5.0->en-core-web-sm==3.5.0) (1.10.7)\n",
            "Requirement already satisfied: jinja2 in /usr/local/lib/python3.10/dist-packages (from spacy<3.6.0,>=3.5.0->en-core-web-sm==3.5.0) (3.1.2)\n",
            "Requirement already satisfied: setuptools in /usr/local/lib/python3.10/dist-packages (from spacy<3.6.0,>=3.5.0->en-core-web-sm==3.5.0) (67.7.2)\n",
            "Requirement already satisfied: packaging>=20.0 in /usr/local/lib/python3.10/dist-packages (from spacy<3.6.0,>=3.5.0->en-core-web-sm==3.5.0) (23.1)\n",
            "Requirement already satisfied: langcodes<4.0.0,>=3.2.0 in /usr/local/lib/python3.10/dist-packages (from spacy<3.6.0,>=3.5.0->en-core-web-sm==3.5.0) (3.3.0)\n",
            "Requirement already satisfied: typing-extensions>=4.2.0 in /usr/local/lib/python3.10/dist-packages (from pydantic!=1.8,!=1.8.1,<1.11.0,>=1.7.4->spacy<3.6.0,>=3.5.0->en-core-web-sm==3.5.0) (4.5.0)\n",
            "Requirement already satisfied: urllib3<1.27,>=1.21.1 in /usr/local/lib/python3.10/dist-packages (from requests<3.0.0,>=2.13.0->spacy<3.6.0,>=3.5.0->en-core-web-sm==3.5.0) (1.26.15)\n",
            "Requirement already satisfied: certifi>=2017.4.17 in /usr/local/lib/python3.10/dist-packages (from requests<3.0.0,>=2.13.0->spacy<3.6.0,>=3.5.0->en-core-web-sm==3.5.0) (2022.12.7)\n",
            "Requirement already satisfied: charset-normalizer~=2.0.0 in /usr/local/lib/python3.10/dist-packages (from requests<3.0.0,>=2.13.0->spacy<3.6.0,>=3.5.0->en-core-web-sm==3.5.0) (2.0.12)\n",
            "Requirement already satisfied: idna<4,>=2.5 in /usr/local/lib/python3.10/dist-packages (from requests<3.0.0,>=2.13.0->spacy<3.6.0,>=3.5.0->en-core-web-sm==3.5.0) (3.4)\n",
            "Requirement already satisfied: blis<0.8.0,>=0.7.8 in /usr/local/lib/python3.10/dist-packages (from thinc<8.2.0,>=8.1.8->spacy<3.6.0,>=3.5.0->en-core-web-sm==3.5.0) (0.7.9)\n",
            "Requirement already satisfied: confection<1.0.0,>=0.0.1 in /usr/local/lib/python3.10/dist-packages (from thinc<8.2.0,>=8.1.8->spacy<3.6.0,>=3.5.0->en-core-web-sm==3.5.0) (0.0.4)\n",
            "Requirement already satisfied: click<9.0.0,>=7.1.1 in /usr/local/lib/python3.10/dist-packages (from typer<0.8.0,>=0.3.0->spacy<3.6.0,>=3.5.0->en-core-web-sm==3.5.0) (8.1.3)\n",
            "Requirement already satisfied: MarkupSafe>=2.0 in /usr/local/lib/python3.10/dist-packages (from jinja2->spacy<3.6.0,>=3.5.0->en-core-web-sm==3.5.0) (2.1.2)\n",
            "\u001b[38;5;2m✔ Download and installation successful\u001b[0m\n",
            "You can now load the package via spacy.load('en_core_web_sm')\n"
          ]
        }
      ]
    },
    {
      "cell_type": "code",
      "execution_count": 27,
      "metadata": {
        "colab": {
          "base_uri": "https://localhost:8080/"
        },
        "id": "aekQHvxc8wlt",
        "outputId": "412565ac-6bd6-4d8a-f5c9-b46f27bee731"
      },
      "outputs": [
        {
          "output_type": "stream",
          "name": "stdout",
          "text": [
            "Looking in indexes: https://pypi.org/simple, https://us-python.pkg.dev/colab-wheels/public/simple/\n",
            "Requirement already satisfied: gensim in /usr/local/lib/python3.10/dist-packages (4.3.1)\n",
            "Requirement already satisfied: numpy>=1.18.5 in /usr/local/lib/python3.10/dist-packages (from gensim) (1.25.0)\n",
            "Requirement already satisfied: scipy>=1.7.0 in /usr/local/lib/python3.10/dist-packages (from gensim) (1.10.1)\n",
            "Requirement already satisfied: smart-open>=1.8.1 in /usr/local/lib/python3.10/dist-packages (from gensim) (6.3.0)\n"
          ]
        }
      ],
      "source": [
        "!pip3 install gensim"
      ]
    },
    {
      "cell_type": "code",
      "source": [
        "!pip3 install pyLDAvis"
      ],
      "metadata": {
        "colab": {
          "base_uri": "https://localhost:8080/"
        },
        "id": "dx0M5tXi9R_l",
        "outputId": "75439a0b-329b-459e-c04c-e79bd13e6ed4"
      },
      "execution_count": 28,
      "outputs": [
        {
          "output_type": "stream",
          "name": "stdout",
          "text": [
            "Looking in indexes: https://pypi.org/simple, https://us-python.pkg.dev/colab-wheels/public/simple/\n",
            "Requirement already satisfied: pyLDAvis in /usr/local/lib/python3.10/dist-packages (3.4.1)\n",
            "Requirement already satisfied: numpy>=1.24.2 in /usr/local/lib/python3.10/dist-packages (from pyLDAvis) (1.25.0)\n",
            "Requirement already satisfied: scipy in /usr/local/lib/python3.10/dist-packages (from pyLDAvis) (1.10.1)\n",
            "Requirement already satisfied: pandas>=2.0.0 in /usr/local/lib/python3.10/dist-packages (from pyLDAvis) (2.0.2)\n",
            "Requirement already satisfied: joblib>=1.2.0 in /usr/local/lib/python3.10/dist-packages (from pyLDAvis) (1.2.0)\n",
            "Requirement already satisfied: jinja2 in /usr/local/lib/python3.10/dist-packages (from pyLDAvis) (3.1.2)\n",
            "Requirement already satisfied: numexpr in /usr/local/lib/python3.10/dist-packages (from pyLDAvis) (2.8.4)\n",
            "Requirement already satisfied: funcy in /usr/local/lib/python3.10/dist-packages (from pyLDAvis) (2.0)\n",
            "Requirement already satisfied: scikit-learn>=1.0.0 in /usr/local/lib/python3.10/dist-packages (from pyLDAvis) (1.2.2)\n",
            "Requirement already satisfied: gensim in /usr/local/lib/python3.10/dist-packages (from pyLDAvis) (4.3.1)\n",
            "Requirement already satisfied: setuptools in /usr/local/lib/python3.10/dist-packages (from pyLDAvis) (67.7.2)\n",
            "Requirement already satisfied: python-dateutil>=2.8.2 in /usr/local/lib/python3.10/dist-packages (from pandas>=2.0.0->pyLDAvis) (2.8.2)\n",
            "Requirement already satisfied: pytz>=2020.1 in /usr/local/lib/python3.10/dist-packages (from pandas>=2.0.0->pyLDAvis) (2022.7.1)\n",
            "Requirement already satisfied: tzdata>=2022.1 in /usr/local/lib/python3.10/dist-packages (from pandas>=2.0.0->pyLDAvis) (2023.3)\n",
            "Requirement already satisfied: threadpoolctl>=2.0.0 in /usr/local/lib/python3.10/dist-packages (from scikit-learn>=1.0.0->pyLDAvis) (3.1.0)\n",
            "Requirement already satisfied: smart-open>=1.8.1 in /usr/local/lib/python3.10/dist-packages (from gensim->pyLDAvis) (6.3.0)\n",
            "Requirement already satisfied: MarkupSafe>=2.0 in /usr/local/lib/python3.10/dist-packages (from jinja2->pyLDAvis) (2.1.2)\n",
            "Requirement already satisfied: six>=1.5 in /usr/local/lib/python3.10/dist-packages (from python-dateutil>=2.8.2->pandas>=2.0.0->pyLDAvis) (1.16.0)\n"
          ]
        }
      ]
    },
    {
      "cell_type": "code",
      "source": [
        "import nltk\n",
        "nltk.download('stopwords')"
      ],
      "metadata": {
        "colab": {
          "base_uri": "https://localhost:8080/"
        },
        "id": "mp6xjCorBNMW",
        "outputId": "6c41c9f5-ae77-4371-b562-afdc2f049cfa"
      },
      "execution_count": 29,
      "outputs": [
        {
          "output_type": "stream",
          "name": "stderr",
          "text": [
            "[nltk_data] Downloading package stopwords to /root/nltk_data...\n",
            "[nltk_data]   Package stopwords is already up-to-date!\n"
          ]
        },
        {
          "output_type": "execute_result",
          "data": {
            "text/plain": [
              "True"
            ]
          },
          "metadata": {},
          "execution_count": 29
        }
      ]
    },
    {
      "cell_type": "code",
      "source": [
        "import re\n",
        "import numpy as np\n",
        "import pandas as  pd\n",
        "from pprint import pprint# Gensim\n",
        "import gensim\n",
        "import gensim.corpora as corpora\n",
        "from gensim.utils import simple_preprocess\n",
        "from gensim.models import CoherenceModel# spaCy for preprocessing\n",
        "import spacy# Plotting tools\n",
        "import pyLDAvis\n",
        "import pyLDAvis.gensim\n",
        "import matplotlib.pyplot as plt\n",
        "%matplotlib inline"
      ],
      "metadata": {
        "id": "v6uORAOa-IVg"
      },
      "execution_count": 30,
      "outputs": []
    },
    {
      "cell_type": "code",
      "source": [
        "# NLTK Stop words\n",
        "from nltk.corpus import stopwords\n",
        "stop_words = stopwords.words('english')\n",
        "stop_words.extend(['from', 'subject', 're', 'edu', 'use'])"
      ],
      "metadata": {
        "id": "j3sexRXK-bIq"
      },
      "execution_count": 31,
      "outputs": []
    },
    {
      "cell_type": "code",
      "source": [
        "# LoadDataset\n",
        "df=pd.read_json('https://raw.githubusercontent.com/selva86/datasets/master/newsgroups.json')\n",
        "print(df.target_names.unique())\n",
        "df.head()"
      ],
      "metadata": {
        "colab": {
          "base_uri": "https://localhost:8080/",
          "height": 306
        },
        "id": "hzJ6FgV6F_js",
        "outputId": "8718138c-36a2-4143-a58c-4d00784d5f51"
      },
      "execution_count": 32,
      "outputs": [
        {
          "output_type": "stream",
          "name": "stdout",
          "text": [
            "['rec.autos' 'comp.sys.mac.hardware' 'comp.graphics' 'sci.space'\n",
            " 'talk.politics.guns' 'sci.med' 'comp.sys.ibm.pc.hardware'\n",
            " 'comp.os.ms-windows.misc' 'rec.motorcycles' 'talk.religion.misc'\n",
            " 'misc.forsale' 'alt.atheism' 'sci.electronics' 'comp.windows.x'\n",
            " 'rec.sport.hockey' 'rec.sport.baseball' 'soc.religion.christian'\n",
            " 'talk.politics.mideast' 'talk.politics.misc' 'sci.crypt']\n"
          ]
        },
        {
          "output_type": "execute_result",
          "data": {
            "text/plain": [
              "                                             content  target  \\\n",
              "0  From: lerxst@wam.umd.edu (where's my thing)\\nS...       7   \n",
              "1  From: guykuo@carson.u.washington.edu (Guy Kuo)...       4   \n",
              "2  From: twillis@ec.ecn.purdue.edu (Thomas E Will...       4   \n",
              "3  From: jgreen@amber (Joe Green)\\nSubject: Re: W...       1   \n",
              "4  From: jcm@head-cfa.harvard.edu (Jonathan McDow...      14   \n",
              "\n",
              "            target_names  \n",
              "0              rec.autos  \n",
              "1  comp.sys.mac.hardware  \n",
              "2  comp.sys.mac.hardware  \n",
              "3          comp.graphics  \n",
              "4              sci.space  "
            ],
            "text/html": [
              "\n",
              "  <div id=\"df-1a27b9d1-5989-4dda-8b0f-32f190f4459a\">\n",
              "    <div class=\"colab-df-container\">\n",
              "      <div>\n",
              "<style scoped>\n",
              "    .dataframe tbody tr th:only-of-type {\n",
              "        vertical-align: middle;\n",
              "    }\n",
              "\n",
              "    .dataframe tbody tr th {\n",
              "        vertical-align: top;\n",
              "    }\n",
              "\n",
              "    .dataframe thead th {\n",
              "        text-align: right;\n",
              "    }\n",
              "</style>\n",
              "<table border=\"1\" class=\"dataframe\">\n",
              "  <thead>\n",
              "    <tr style=\"text-align: right;\">\n",
              "      <th></th>\n",
              "      <th>content</th>\n",
              "      <th>target</th>\n",
              "      <th>target_names</th>\n",
              "    </tr>\n",
              "  </thead>\n",
              "  <tbody>\n",
              "    <tr>\n",
              "      <th>0</th>\n",
              "      <td>From: lerxst@wam.umd.edu (where's my thing)\\nS...</td>\n",
              "      <td>7</td>\n",
              "      <td>rec.autos</td>\n",
              "    </tr>\n",
              "    <tr>\n",
              "      <th>1</th>\n",
              "      <td>From: guykuo@carson.u.washington.edu (Guy Kuo)...</td>\n",
              "      <td>4</td>\n",
              "      <td>comp.sys.mac.hardware</td>\n",
              "    </tr>\n",
              "    <tr>\n",
              "      <th>2</th>\n",
              "      <td>From: twillis@ec.ecn.purdue.edu (Thomas E Will...</td>\n",
              "      <td>4</td>\n",
              "      <td>comp.sys.mac.hardware</td>\n",
              "    </tr>\n",
              "    <tr>\n",
              "      <th>3</th>\n",
              "      <td>From: jgreen@amber (Joe Green)\\nSubject: Re: W...</td>\n",
              "      <td>1</td>\n",
              "      <td>comp.graphics</td>\n",
              "    </tr>\n",
              "    <tr>\n",
              "      <th>4</th>\n",
              "      <td>From: jcm@head-cfa.harvard.edu (Jonathan McDow...</td>\n",
              "      <td>14</td>\n",
              "      <td>sci.space</td>\n",
              "    </tr>\n",
              "  </tbody>\n",
              "</table>\n",
              "</div>\n",
              "      <button class=\"colab-df-convert\" onclick=\"convertToInteractive('df-1a27b9d1-5989-4dda-8b0f-32f190f4459a')\"\n",
              "              title=\"Convert this dataframe to an interactive table.\"\n",
              "              style=\"display:none;\">\n",
              "        \n",
              "  <svg xmlns=\"http://www.w3.org/2000/svg\" height=\"24px\"viewBox=\"0 0 24 24\"\n",
              "       width=\"24px\">\n",
              "    <path d=\"M0 0h24v24H0V0z\" fill=\"none\"/>\n",
              "    <path d=\"M18.56 5.44l.94 2.06.94-2.06 2.06-.94-2.06-.94-.94-2.06-.94 2.06-2.06.94zm-11 1L8.5 8.5l.94-2.06 2.06-.94-2.06-.94L8.5 2.5l-.94 2.06-2.06.94zm10 10l.94 2.06.94-2.06 2.06-.94-2.06-.94-.94-2.06-.94 2.06-2.06.94z\"/><path d=\"M17.41 7.96l-1.37-1.37c-.4-.4-.92-.59-1.43-.59-.52 0-1.04.2-1.43.59L10.3 9.45l-7.72 7.72c-.78.78-.78 2.05 0 2.83L4 21.41c.39.39.9.59 1.41.59.51 0 1.02-.2 1.41-.59l7.78-7.78 2.81-2.81c.8-.78.8-2.07 0-2.86zM5.41 20L4 18.59l7.72-7.72 1.47 1.35L5.41 20z\"/>\n",
              "  </svg>\n",
              "      </button>\n",
              "      \n",
              "  <style>\n",
              "    .colab-df-container {\n",
              "      display:flex;\n",
              "      flex-wrap:wrap;\n",
              "      gap: 12px;\n",
              "    }\n",
              "\n",
              "    .colab-df-convert {\n",
              "      background-color: #E8F0FE;\n",
              "      border: none;\n",
              "      border-radius: 50%;\n",
              "      cursor: pointer;\n",
              "      display: none;\n",
              "      fill: #1967D2;\n",
              "      height: 32px;\n",
              "      padding: 0 0 0 0;\n",
              "      width: 32px;\n",
              "    }\n",
              "\n",
              "    .colab-df-convert:hover {\n",
              "      background-color: #E2EBFA;\n",
              "      box-shadow: 0px 1px 2px rgba(60, 64, 67, 0.3), 0px 1px 3px 1px rgba(60, 64, 67, 0.15);\n",
              "      fill: #174EA6;\n",
              "    }\n",
              "\n",
              "    [theme=dark] .colab-df-convert {\n",
              "      background-color: #3B4455;\n",
              "      fill: #D2E3FC;\n",
              "    }\n",
              "\n",
              "    [theme=dark] .colab-df-convert:hover {\n",
              "      background-color: #434B5C;\n",
              "      box-shadow: 0px 1px 3px 1px rgba(0, 0, 0, 0.15);\n",
              "      filter: drop-shadow(0px 1px 2px rgba(0, 0, 0, 0.3));\n",
              "      fill: #FFFFFF;\n",
              "    }\n",
              "  </style>\n",
              "\n",
              "      <script>\n",
              "        const buttonEl =\n",
              "          document.querySelector('#df-1a27b9d1-5989-4dda-8b0f-32f190f4459a button.colab-df-convert');\n",
              "        buttonEl.style.display =\n",
              "          google.colab.kernel.accessAllowed ? 'block' : 'none';\n",
              "\n",
              "        async function convertToInteractive(key) {\n",
              "          const element = document.querySelector('#df-1a27b9d1-5989-4dda-8b0f-32f190f4459a');\n",
              "          const dataTable =\n",
              "            await google.colab.kernel.invokeFunction('convertToInteractive',\n",
              "                                                     [key], {});\n",
              "          if (!dataTable) return;\n",
              "\n",
              "          const docLinkHtml = 'Like what you see? Visit the ' +\n",
              "            '<a target=\"_blank\" href=https://colab.research.google.com/notebooks/data_table.ipynb>data table notebook</a>'\n",
              "            + ' to learn more about interactive tables.';\n",
              "          element.innerHTML = '';\n",
              "          dataTable['output_type'] = 'display_data';\n",
              "          await google.colab.output.renderOutput(dataTable, element);\n",
              "          const docLink = document.createElement('div');\n",
              "          docLink.innerHTML = docLinkHtml;\n",
              "          element.appendChild(docLink);\n",
              "        }\n",
              "      </script>\n",
              "    </div>\n",
              "  </div>\n",
              "  "
            ]
          },
          "metadata": {},
          "execution_count": 32
        }
      ]
    },
    {
      "cell_type": "code",
      "source": [
        "# Convert to list\n",
        "data = df.content.values.tolist()\n",
        "# Remove Emails\n",
        "data = [re.sub('\\S*@\\S*\\s?', '', sent) for sent in data]\n",
        "# Remove new line characters\n",
        "data = [re.sub('\\s+', ' ', sent) for sent in data]\n",
        "# Remove distracting single quotes\n",
        "data = [re.sub(\"\\'\", \"\", sent) for sent in data]\n",
        "pprint(data[:1])"
      ],
      "metadata": {
        "colab": {
          "base_uri": "https://localhost:8080/"
        },
        "id": "ZRnLbsZI-NzP",
        "outputId": "07dd7eb3-6c75-4d8c-bb34-d942d203748c"
      },
      "execution_count": 33,
      "outputs": [
        {
          "output_type": "stream",
          "name": "stdout",
          "text": [
            "['From: (wheres my thing) Subject: WHAT car is this!? Nntp-Posting-Host: '\n",
            " 'rac3.wam.umd.edu Organization: University of Maryland, College Park Lines: '\n",
            " '15 I was wondering if anyone out there could enlighten me on this car I saw '\n",
            " 'the other day. It was a 2-door sports car, looked to be from the late 60s/ '\n",
            " 'early 70s. It was called a Bricklin. The doors were really small. In '\n",
            " 'addition, the front bumper was separate from the rest of the body. This is '\n",
            " 'all I know. If anyone can tellme a model name, engine specs, years of '\n",
            " 'production, where this car is made, history, or whatever info you have on '\n",
            " 'this funky looking car, please e-mail. Thanks, - IL ---- brought to you by '\n",
            " 'your neighborhood Lerxst ---- ']\n"
          ]
        }
      ]
    },
    {
      "cell_type": "code",
      "source": [
        "def sent_to_words(sentences):\n",
        "    for sentence in sentences:\n",
        "        yield(gensim.utils.simple_preprocess(str(sentence), deacc=True))  # deacc=True removes punctuations\n",
        "data_words = list(sent_to_words(data))\n",
        "print(data_words[:1])"
      ],
      "metadata": {
        "id": "xQsff1Me_4ni",
        "colab": {
          "base_uri": "https://localhost:8080/"
        },
        "outputId": "dc455273-33ce-413d-a1c2-17be7bb5f9e8"
      },
      "execution_count": 34,
      "outputs": [
        {
          "output_type": "stream",
          "name": "stdout",
          "text": [
            "[['from', 'wheres', 'my', 'thing', 'subject', 'what', 'car', 'is', 'this', 'nntp', 'posting', 'host', 'rac', 'wam', 'umd', 'edu', 'organization', 'university', 'of', 'maryland', 'college', 'park', 'lines', 'was', 'wondering', 'if', 'anyone', 'out', 'there', 'could', 'enlighten', 'me', 'on', 'this', 'car', 'saw', 'the', 'other', 'day', 'it', 'was', 'door', 'sports', 'car', 'looked', 'to', 'be', 'from', 'the', 'late', 'early', 'it', 'was', 'called', 'bricklin', 'the', 'doors', 'were', 'really', 'small', 'in', 'addition', 'the', 'front', 'bumper', 'was', 'separate', 'from', 'the', 'rest', 'of', 'the', 'body', 'this', 'is', 'all', 'know', 'if', 'anyone', 'can', 'tellme', 'model', 'name', 'engine', 'specs', 'years', 'of', 'production', 'where', 'this', 'car', 'is', 'made', 'history', 'or', 'whatever', 'info', 'you', 'have', 'on', 'this', 'funky', 'looking', 'car', 'please', 'mail', 'thanks', 'il', 'brought', 'to', 'you', 'by', 'your', 'neighborhood', 'lerxst']]\n"
          ]
        }
      ]
    },
    {
      "cell_type": "code",
      "source": [
        "bigram = gensim.models.Phrases(data_words, min_count=5, threshold=100)\n",
        "trigram = gensim.models.Phrases(bigram[data_words], threshold=100)\n",
        "bigram_mod = gensim.models.phrases.Phraser(bigram)\n",
        "trigram_mod = gensim.models.phrases.Phraser(trigram)\n",
        "print(trigram_mod[bigram_mod[data_words[0]]])"
      ],
      "metadata": {
        "id": "glCdlqxBAH2T",
        "colab": {
          "base_uri": "https://localhost:8080/"
        },
        "outputId": "dad3ed27-0c6a-4938-918c-dba12c77b753"
      },
      "execution_count": 35,
      "outputs": [
        {
          "output_type": "stream",
          "name": "stdout",
          "text": [
            "['from', 'wheres', 'my', 'thing', 'subject', 'what', 'car', 'is', 'this', 'nntp_posting_host', 'rac_wam_umd_edu', 'organization', 'university', 'of', 'maryland_college_park', 'lines', 'was', 'wondering', 'if', 'anyone', 'out', 'there', 'could', 'enlighten', 'me', 'on', 'this', 'car', 'saw', 'the', 'other', 'day', 'it', 'was', 'door', 'sports', 'car', 'looked', 'to', 'be', 'from', 'the', 'late', 'early', 'it', 'was', 'called', 'bricklin', 'the', 'doors', 'were', 'really', 'small', 'in', 'addition', 'the', 'front_bumper', 'was', 'separate', 'from', 'the', 'rest', 'of', 'the', 'body', 'this', 'is', 'all', 'know', 'if', 'anyone', 'can', 'tellme', 'model', 'name', 'engine', 'specs', 'years', 'of', 'production', 'where', 'this', 'car', 'is', 'made', 'history', 'or', 'whatever', 'info', 'you', 'have', 'on', 'this', 'funky', 'looking', 'car', 'please', 'mail', 'thanks', 'il', 'brought', 'to', 'you', 'by', 'your', 'neighborhood', 'lerxst']\n"
          ]
        }
      ]
    },
    {
      "cell_type": "code",
      "source": [
        "def remove_stopwords(texts):\n",
        "    return [[word for word in simple_preprocess(str(doc)) if word not in stop_words] for doc in texts]\n",
        "def make_bigrams(texts):\n",
        "    return [bigram_mod[doc] for doc in texts]\n",
        "def make_trigrams(texts):\n",
        "    return [trigram_mod[bigram_mod[doc]] for doc in texts]\n",
        "def lemmatization(texts, allowed_postags=['NOUN', 'ADJ', 'VERB', 'ADV']):\n",
        "    \"\"\"https://spacy.io/api/annotation\"\"\"\n",
        "    texts_out = []\n",
        "    for sent in texts:\n",
        "        doc = nlp(\" \".join(sent))\n",
        "        texts_out.append([token.lemma_ for token in doc if token.pos_ in allowed_postags])\n",
        "    return texts_out"
      ],
      "metadata": {
        "id": "z6g0Lg3YAHU9"
      },
      "execution_count": 36,
      "outputs": []
    },
    {
      "cell_type": "code",
      "source": [
        "data_words_nostops = remove_stopwords(data_words)\n",
        "data_words_bigrams = make_bigrams(data_words_nostops)\n",
        "nlp = spacy.load(\"en_core_web_sm\", disable=['parser', 'ner'])\n",
        "data_lemmatized = lemmatization(data_words_bigrams, allowed_postags=['NOUN', 'ADJ', 'VERB', 'ADV'])\n",
        "print(data_lemmatized[:1])"
      ],
      "metadata": {
        "id": "KyOCQpN1A71u",
        "colab": {
          "base_uri": "https://localhost:8080/"
        },
        "outputId": "3310222d-5f90-4745-ec48-0fe29732b3ca"
      },
      "execution_count": 37,
      "outputs": [
        {
          "output_type": "stream",
          "name": "stdout",
          "text": [
            "[['s', 'thing', 'car', 'nntp_poste', 'host', 'rac_wam', 'university', 'park', 'line', 'wonder', 'enlighten', 'car', 'see', 'day', 'door', 'sport', 'car', 'look', 'late', 'early', 'call', 'door', 'really', 'small', 'addition', 'separate', 'rest', 'body', 'know', 'model', 'name', 'engine', 'spec', 'year', 'production', 'car', 'make', 'history', 'info', 'funky', 'look', 'car', 'mail', 'thank', 'bring', 'neighborhood', 'lerxst']]\n"
          ]
        }
      ]
    },
    {
      "cell_type": "code",
      "source": [
        "id2word = corpora.Dictionary(data_lemmatized)\n",
        "texts = data_lemmatized\n",
        "corpus = [id2word.doc2bow(text) for text in texts]\n",
        "print(corpus[:1])"
      ],
      "metadata": {
        "id": "c9g-uG9gB-rn",
        "colab": {
          "base_uri": "https://localhost:8080/"
        },
        "outputId": "657680fc-d69c-40bf-ccad-48260292607c"
      },
      "execution_count": 38,
      "outputs": [
        {
          "output_type": "stream",
          "name": "stdout",
          "text": [
            "[[(0, 1), (1, 1), (2, 1), (3, 1), (4, 5), (5, 1), (6, 2), (7, 1), (8, 1), (9, 1), (10, 1), (11, 1), (12, 1), (13, 1), (14, 1), (15, 1), (16, 1), (17, 1), (18, 2), (19, 1), (20, 1), (21, 1), (22, 1), (23, 1), (24, 1), (25, 1), (26, 1), (27, 1), (28, 1), (29, 1), (30, 1), (31, 1), (32, 1), (33, 1), (34, 1), (35, 1), (36, 1), (37, 1), (38, 1), (39, 1), (40, 1)]]\n"
          ]
        }
      ]
    },
    {
      "cell_type": "code",
      "source": [
        "id2word[0]"
      ],
      "metadata": {
        "id": "SpR-Qh7GCnWx",
        "colab": {
          "base_uri": "https://localhost:8080/",
          "height": 35
        },
        "outputId": "ca24e43a-6da5-4095-f66e-bfbbbf847a18"
      },
      "execution_count": 39,
      "outputs": [
        {
          "output_type": "execute_result",
          "data": {
            "text/plain": [
              "'addition'"
            ],
            "application/vnd.google.colaboratory.intrinsic+json": {
              "type": "string"
            }
          },
          "metadata": {},
          "execution_count": 39
        }
      ]
    },
    {
      "cell_type": "code",
      "source": [
        "[[(id2word[id], freq) for id, freq in cp] for cp in corpus[:1]]"
      ],
      "metadata": {
        "id": "hpKRp0tACr6R",
        "colab": {
          "base_uri": "https://localhost:8080/"
        },
        "outputId": "b591cc7e-791f-4e94-bc49-639e00b9c5f9"
      },
      "execution_count": 40,
      "outputs": [
        {
          "output_type": "execute_result",
          "data": {
            "text/plain": [
              "[[('addition', 1),\n",
              "  ('body', 1),\n",
              "  ('bring', 1),\n",
              "  ('call', 1),\n",
              "  ('car', 5),\n",
              "  ('day', 1),\n",
              "  ('door', 2),\n",
              "  ('early', 1),\n",
              "  ('engine', 1),\n",
              "  ('enlighten', 1),\n",
              "  ('funky', 1),\n",
              "  ('history', 1),\n",
              "  ('host', 1),\n",
              "  ('info', 1),\n",
              "  ('know', 1),\n",
              "  ('late', 1),\n",
              "  ('lerxst', 1),\n",
              "  ('line', 1),\n",
              "  ('look', 2),\n",
              "  ('mail', 1),\n",
              "  ('make', 1),\n",
              "  ('model', 1),\n",
              "  ('name', 1),\n",
              "  ('neighborhood', 1),\n",
              "  ('nntp_poste', 1),\n",
              "  ('park', 1),\n",
              "  ('production', 1),\n",
              "  ('rac_wam', 1),\n",
              "  ('really', 1),\n",
              "  ('rest', 1),\n",
              "  ('s', 1),\n",
              "  ('see', 1),\n",
              "  ('separate', 1),\n",
              "  ('small', 1),\n",
              "  ('spec', 1),\n",
              "  ('sport', 1),\n",
              "  ('thank', 1),\n",
              "  ('thing', 1),\n",
              "  ('university', 1),\n",
              "  ('wonder', 1),\n",
              "  ('year', 1)]]"
            ]
          },
          "metadata": {},
          "execution_count": 40
        }
      ]
    },
    {
      "cell_type": "code",
      "source": [
        "lda_model = gensim.models.ldamodel.LdaModel(corpus=corpus,\n",
        "                                           id2word=id2word,\n",
        "                                           num_topics=20,\n",
        "                                           random_state=100,\n",
        "                                           update_every=1,\n",
        "                                           chunksize=100,\n",
        "                                           passes=10,\n",
        "                                           alpha='auto',\n",
        "                                           per_word_topics=True)"
      ],
      "metadata": {
        "id": "RXwAbFejCy-0"
      },
      "execution_count": 41,
      "outputs": []
    },
    {
      "cell_type": "code",
      "source": [
        "pprint(lda_model.print_topics())\n",
        "doc_lda = lda_model[corpus]"
      ],
      "metadata": {
        "id": "gAdFFCE2C1hF",
        "colab": {
          "base_uri": "https://localhost:8080/"
        },
        "outputId": "37063b7d-9911-4e11-a871-91f941310001"
      },
      "execution_count": 42,
      "outputs": [
        {
          "output_type": "stream",
          "name": "stdout",
          "text": [
            "[(0,\n",
            "  '0.021*\"research\" + 0.019*\"information\" + 0.019*\"high\" + 0.019*\"report\" + '\n",
            "  '0.018*\"player\" + 0.016*\"service\" + 0.015*\"rate\" + 0.014*\"design\" + '\n",
            "  '0.013*\"season\" + 0.012*\"low\"'),\n",
            " (1,\n",
            "  '0.077*\"team\" + 0.072*\"game\" + 0.053*\"play\" + 0.050*\"faith\" + 0.049*\"win\" + '\n",
            "  '0.031*\"belief\" + 0.025*\"atheist\" + 0.025*\"year\" + 0.018*\"wing\" + '\n",
            "  '0.018*\"score\"'),\n",
            " (2,\n",
            "  '0.106*\"space\" + 0.029*\"notice\" + 0.029*\"launch\" + 0.026*\"earth\" + '\n",
            "  '0.024*\"mission\" + 0.024*\"orbit\" + 0.023*\"external\" + 0.020*\"vehicle\" + '\n",
            "  '0.019*\"satellite\" + 0.019*\"door\"'),\n",
            " (3,\n",
            "  '0.022*\"say\" + 0.019*\"people\" + 0.017*\"reason\" + 0.017*\"believe\" + '\n",
            "  '0.015*\"evidence\" + 0.014*\"mean\" + 0.012*\"point\" + 0.012*\"question\" + '\n",
            "  '0.011*\"many\" + 0.010*\"claim\"'),\n",
            " (4,\n",
            "  '0.078*\"book\" + 0.044*\"science\" + 0.042*\"reference\" + 0.036*\"pin\" + '\n",
            "  '0.032*\"section\" + 0.025*\"faq\" + 0.024*\"author\" + 0.023*\"copy\" + '\n",
            "  '0.023*\"reality\" + 0.022*\"internal\"'),\n",
            " (5,\n",
            "  '0.065*\"cost\" + 0.059*\"model\" + 0.039*\"character\" + 0.036*\"picture\" + '\n",
            "  '0.036*\"format\" + 0.032*\"quality\" + 0.032*\"associate\" + 0.028*\"handle\" + '\n",
            "  '0.023*\"hole\" + 0.023*\"gift\"'),\n",
            " (6,\n",
            "  '0.032*\"system\" + 0.028*\"use\" + 0.024*\"program\" + 0.023*\"file\" + '\n",
            "  '0.018*\"card\" + 0.016*\"run\" + 0.014*\"software\" + 0.014*\"bit\" + '\n",
            "  '0.013*\"machine\" + 0.013*\"problem\"'),\n",
            " (7,\n",
            "  '0.092*\"moral\" + 0.056*\"property\" + 0.045*\"serial\" + 0.036*\"lock\" + '\n",
            "  '0.022*\"positively\" + 0.021*\"intent\" + 0.018*\"alarm\" + 0.012*\"converter\" + '\n",
            "  '0.011*\"unnecessary\" + 0.007*\"provision\"'),\n",
            " (8,\n",
            "  '0.249*\"window\" + 0.057*\"monitor\" + 0.055*\"normal\" + 0.041*\"do\" + '\n",
            "  '0.032*\"font\" + 0.023*\"left\" + 0.020*\"widget\" + 0.019*\"please_respond\" + '\n",
            "  '0.017*\"environment\" + 0.017*\"trivial\"'),\n",
            " (9,\n",
            "  '0.061*\"child\" + 0.028*\"church\" + 0.027*\"woman\" + 0.025*\"armenian\" + '\n",
            "  '0.022*\"authority\" + 0.020*\"community\" + 0.019*\"greek\" + 0.017*\"period\" + '\n",
            "  '0.017*\"turk\" + 0.016*\"soldier\"'),\n",
            " (10,\n",
            "  '0.765*\"ax\" + 0.035*\"physical\" + 0.024*\"graphic\" + 0.014*\"direct\" + '\n",
            "  '0.011*\"convert\" + 0.006*\"daughter\" + 0.006*\"capture\" + 0.005*\"human_being\" '\n",
            "  '+ 0.004*\"split\" + 0.003*\"accomplish\"'),\n",
            " (11,\n",
            "  '0.130*\"line\" + 0.076*\"organization\" + 0.074*\"write\" + 0.063*\"article\" + '\n",
            "  '0.056*\"nntp_poste\" + 0.050*\"host\" + 0.029*\"reply\" + 0.024*\"thank\" + '\n",
            "  '0.018*\"university\" + 0.013*\"post\"'),\n",
            " (12,\n",
            "  '0.072*\"plane\" + 0.030*\"hi\" + 0.021*\"subscription\" + 0.020*\"steve\" + '\n",
            "  '0.015*\"divide\" + 0.011*\"evolve\" + 0.010*\"intersection\" + 0.010*\"rip\" + '\n",
            "  '0.008*\"upcoming\" + 0.007*\"script\"'),\n",
            " (13,\n",
            "  '0.031*\"people\" + 0.028*\"state\" + 0.018*\"gun\" + 0.017*\"government\" + '\n",
            "  '0.017*\"law\" + 0.016*\"right\" + 0.015*\"kill\" + 0.013*\"death\" + 0.011*\"live\" + '\n",
            "  '0.011*\"force\"'),\n",
            " (14,\n",
            "  '0.141*\"drug\" + 0.029*\"film\" + 0.026*\"movie\" + 0.025*\"stereo\" + '\n",
            "  '0.024*\"japanese\" + 0.022*\"deficit\" + 0.020*\"plot\" + 0.014*\"mad\" + '\n",
            "  '0.009*\"harley\" + 0.007*\"deck\"'),\n",
            " (15,\n",
            "  '0.061*\"box\" + 0.050*\"club\" + 0.041*\"modem\" + 0.041*\"status\" + '\n",
            "  '0.030*\"primary\" + 0.029*\"routine\" + 0.029*\"spec\" + 0.026*\"sufficient\" + '\n",
            "  '0.023*\"public_access\" + 0.023*\"automatically\"'),\n",
            " (16,\n",
            "  '0.152*\"drive\" + 0.091*\"car\" + 0.036*\"bike\" + 0.024*\"engine\" + 0.023*\"nhl\" + '\n",
            "  '0.022*\"ride\" + 0.018*\"road\" + 0.017*\"weight\" + 0.016*\"mile\" + '\n",
            "  '0.015*\"ground\"'),\n",
            " (17,\n",
            "  '0.113*\"patient\" + 0.060*\"disease\" + 0.054*\"scientific\" + '\n",
            "  '0.050*\"computer_science\" + 0.043*\"animal\" + 0.041*\"health\" + '\n",
            "  '0.040*\"treatment\" + 0.037*\"medical\" + 0.033*\"dog\" + 0.030*\"study\"'),\n",
            " (18,\n",
            "  '0.023*\"get\" + 0.018*\"go\" + 0.015*\"good\" + 0.015*\"time\" + 0.015*\"know\" + '\n",
            "  '0.014*\"make\" + 0.013*\"well\" + 0.013*\"think\" + 0.012*\"see\" + 0.010*\"take\"'),\n",
            " (19,\n",
            "  '0.106*\"key\" + 0.043*\"test\" + 0.032*\"public\" + 0.031*\"encryption\" + '\n",
            "  '0.028*\"security\" + 0.028*\"server\" + 0.022*\"clipper\" + 0.021*\"chip\" + '\n",
            "  '0.018*\"secure\" + 0.018*\"message\"')]\n"
          ]
        }
      ]
    },
    {
      "cell_type": "code",
      "source": [
        "print('\\nPerplexity: ', lda_model.log_perplexity(corpus))\n",
        "coherence_model_lda = CoherenceModel(model=lda_model, texts=data_lemmatized, dictionary=id2word, coherence='c_v')\n",
        "coherence_lda = coherence_model_lda.get_coherence()\n",
        "print('\\nCoherence Score: ', coherence_lda)"
      ],
      "metadata": {
        "id": "X6NVlxZZC-qU",
        "colab": {
          "base_uri": "https://localhost:8080/"
        },
        "outputId": "b9a3abbd-e951-48a9-98a4-e5cd9d992faf"
      },
      "execution_count": 43,
      "outputs": [
        {
          "output_type": "stream",
          "name": "stdout",
          "text": [
            "\n",
            "Perplexity:  -13.32461333694394\n",
            "\n",
            "Coherence Score:  0.483541481988623\n"
          ]
        }
      ]
    },
    {
      "cell_type": "code",
      "source": [
        "pyLDAvis.enable_notebook()\n",
        "vis = pyLDAvis.gensim.prepare(lda_model, corpus, id2word)\n",
        "vis"
      ],
      "metadata": {
        "id": "kJ3UEEGjDDtO",
        "colab": {
          "base_uri": "https://localhost:8080/",
          "height": 861
        },
        "outputId": "395cffe0-a597-4142-da71-fc9568461d1f"
      },
      "execution_count": 44,
      "outputs": [
        {
          "output_type": "execute_result",
          "data": {
            "text/plain": [
              "PreparedData(topic_coordinates=              x         y  topics  cluster       Freq\n",
              "topic                                                \n",
              "18     0.336524 -0.053710       1        1  34.413808\n",
              "3      0.316929 -0.118897       2        1  15.585704\n",
              "11     0.216787  0.285232       3        1   9.181732\n",
              "6      0.247089  0.167011       4        1   9.110521\n",
              "13     0.184105 -0.279650       5        1   7.614140\n",
              "10    -0.019302  0.039625       6        1   5.391939\n",
              "0      0.153919  0.027978       7        1   5.120750\n",
              "9     -0.008545 -0.117708       8        1   2.140526\n",
              "1      0.006922 -0.062102       9        1   2.065614\n",
              "19     0.038372  0.069509      10        1   1.847954\n",
              "16    -0.037562  0.037035      11        1   1.732315\n",
              "4     -0.046037 -0.038091      12        1   1.606860\n",
              "2     -0.081907  0.028035      13        1   1.237491\n",
              "5     -0.118572  0.023859      14        1   1.144326\n",
              "8     -0.162686  0.013121      15        1   0.619223\n",
              "17    -0.175944 -0.007818      16        1   0.433674\n",
              "15    -0.204259 -0.001775      17        1   0.294853\n",
              "7     -0.212202 -0.003261      18        1   0.200450\n",
              "14    -0.214082 -0.003629      19        1   0.158955\n",
              "12    -0.219548 -0.004764      20        1   0.099166, topic_info=              Term          Freq         Total Category  logprob  loglift\n",
              "4399            ax  53235.000000  53235.000000  Default  30.0000  30.0000\n",
              "17            line  17060.000000  17060.000000  Default  29.0000  29.0000\n",
              "208          write  13405.000000  13405.000000  Default  28.0000  28.0000\n",
              "142   organization   9429.000000   9429.000000  Default  27.0000  27.0000\n",
              "45         article   9896.000000   9896.000000  Default  26.0000  26.0000\n",
              "...            ...           ...           ...      ...      ...      ...\n",
              "4946            tv      0.020348      1.258241  Topic20 -11.0492   2.7917\n",
              "6485   advertising      0.020348      1.258227  Topic20 -11.0492   2.7917\n",
              "7775          logo      0.020348      1.258225  Topic20 -11.0492   2.7917\n",
              "7567        circle      0.020348      1.258226  Topic20 -11.0492   2.7917\n",
              "4391             _      0.020348      1.258252  Topic20 -11.0492   2.7916\n",
              "\n",
              "[871 rows x 6 columns], token_table=      Topic      Freq        Term\n",
              "term                             \n",
              "495       9  0.990580    absolute\n",
              "1354      2  0.999137      accept\n",
              "1277     15  0.843121  accessible\n",
              "2283      6  0.995016  accomplish\n",
              "183       1  0.170685     address\n",
              "...     ...       ...         ...\n",
              "40        8  0.002984        year\n",
              "40        9  0.134080        year\n",
              "614       1  0.590722       young\n",
              "614       8  0.374635       young\n",
              "614       9  0.031965       young\n",
              "\n",
              "[1018 rows x 3 columns], R=30, lambda_step=0.01, plot_opts={'xlab': 'PC1', 'ylab': 'PC2'}, topic_order=[19, 4, 12, 7, 14, 11, 1, 10, 2, 20, 17, 5, 3, 6, 9, 18, 16, 8, 15, 13])"
            ],
            "text/html": [
              "\n",
              "<link rel=\"stylesheet\" type=\"text/css\" href=\"https://cdn.jsdelivr.net/gh/bmabey/pyLDAvis@3.4.0/pyLDAvis/js/ldavis.v1.0.0.css\">\n",
              "\n",
              "\n",
              "<div id=\"ldavis_el6041404793460966408795207364\" style=\"background-color:white;\"></div>\n",
              "<script type=\"text/javascript\">\n",
              "\n",
              "var ldavis_el6041404793460966408795207364_data = {\"mdsDat\": {\"x\": [0.33652370402745213, 0.31692873813259803, 0.2167867636668244, 0.24708927155312052, 0.18410548064187612, -0.019302360783373673, 0.153918824284348, -0.008545387218098327, 0.0069224121476792405, 0.038372450466822874, -0.03756243118413462, -0.046037340302552306, -0.08190677101828259, -0.11857221191725055, -0.1626855177903768, -0.17594429647677656, -0.20425938411651323, -0.21220217785940448, -0.21408224047183755, -0.21954752578211945], \"y\": [-0.05371022635710912, -0.11889673091043897, 0.2852324882288782, 0.16701133890365447, -0.2796504697490783, 0.03962548078368626, 0.027978376703267013, -0.11770808418934942, -0.06210208836360941, 0.06950857551637085, 0.037034936103524735, -0.03809060204753074, 0.02803479965948056, 0.023858925097830958, 0.013120779335687813, -0.007817776783441829, -0.0017754885860645476, -0.003260623524275206, -0.0036291246580763496, -0.0047644851634068], \"topics\": [1, 2, 3, 4, 5, 6, 7, 8, 9, 10, 11, 12, 13, 14, 15, 16, 17, 18, 19, 20], \"cluster\": [1, 1, 1, 1, 1, 1, 1, 1, 1, 1, 1, 1, 1, 1, 1, 1, 1, 1, 1, 1], \"Freq\": [34.41380822300991, 15.58570369798756, 9.181731785539398, 9.110520570474119, 7.614139838983358, 5.391938710166409, 5.120750035243042, 2.1405264791846923, 2.0656137645890547, 1.847953510846943, 1.732315249337171, 1.606860403557413, 1.2374911477435258, 1.144326217130522, 0.6192227179225742, 0.4336736265101251, 0.29485301033979805, 0.20045004879798944, 0.15895487897472968, 0.09916608366168117]}, \"tinfo\": {\"Term\": [\"ax\", \"line\", \"write\", \"organization\", \"article\", \"nntp_poste\", \"host\", \"drive\", \"people\", \"year\", \"window\", \"key\", \"system\", \"do\", \"get\", \"use\", \"go\", \"car\", \"say\", \"team\", \"reply\", \"game\", \"space\", \"book\", \"state\", \"physical\", \"thank\", \"run\", \"time\", \"child\", \"go\", \"s\", \"ve\", \"back\", \"long\", \"re\", \"start\", \"bad\", \"still\", \"hear\", \"little\", \"lot\", \"probably\", \"put\", \"big\", \"maybe\", \"money\", \"remember\", \"week\", \"hard\", \"ill\", \"home\", \"move\", \"guess\", \"couple\", \"pretty\", \"cheap\", \"guy\", \"school\", \"soon\", \"time\", \"good\", \"really\", \"end\", \"day\", \"get\", \"great\", \"much\", \"let\", \"well\", \"sure\", \"take\", \"first\", \"want\", \"come\", \"see\", \"know\", \"make\", \"think\", \"tell\", \"m\", \"try\", \"work\", \"year\", \"look\", \"way\", \"say\", \"thing\", \"give\", \"also\", \"write\", \"even\", \"reason\", \"believe\", \"evidence\", \"claim\", \"talk\", \"sense\", \"true\", \"word\", \"rule\", \"matter\", \"argument\", \"religion\", \"love\", \"accept\", \"understand\", \"explain\", \"god\", \"prove\", \"speak\", \"discussion\", \"truth\", \"clear\", \"purpose\", \"certainly\", \"statement\", \"christian\", \"master\", \"indeed\", \"doubt\", \"therefore\", \"religious\", \"human\", \"exist\", \"apply\", \"mean\", \"life\", \"fact\", \"view\", \"rather\", \"question\", \"say\", \"point\", \"however\", \"people\", \"case\", \"many\", \"group\", \"man\", \"agree\", \"follow\", \"example\", \"issue\", \"world\", \"think\", \"make\", \"different\", \"read\", \"thing\", \"write\", \"also\", \"nntp_poste\", \"host\", \"thank\", \"university\", \"price\", \"com\", \"sale\", \"internet\", \"cpu\", \"appreciate\", \"bus\", \"version_pl\", \"controller\", \"originator\", \"printer\", \"apr\", \"upgrade\", \"corporation\", \"resource\", \"crash\", \"cycle\", \"northern\", \"bio\", \"ram\", \"opinions_expresse\", \"clock\", \"laboratory\", \"cool\", \"bug\", \"floppy\", \"reply\", \"organization\", \"line\", \"keyword\", \"interested\", \"sell\", \"distribution_world\", \"article\", \"dealer\", \"write\", \"buy\", \"phone\", \"mail\", \"post\", \"email\", \"help\", \"technology\", \"need\", \"new\", \"m\", \"message\", \"question\", \"look\", \"use\", \"know\", \"file\", \"software\", \"machine\", \"code\", \"entry\", \"version\", \"memory\", \"hardware\", \"screen\", \"disk\", \"mode\", \"pc\", \"video\", \"display\", \"device\", \"fax\", \"package\", \"scan\", \"scsi\", \"port\", \"apple\", \"ide\", \"mhz\", \"gateway\", \"mac\", \"manager\", \"mouse\", \"unix\", \"directory\", \"interface\", \"card\", \"program\", \"input\", \"image\", \"instal\", \"driver\", \"user\", \"application\", \"system\", \"type\", \"available\", \"address\", \"bit\", \"use\", \"run\", \"set\", \"computer\", \"source\", \"include\", \"support\", \"problem\", \"work\", \"also\", \"chip\", \"need\", \"gun\", \"kill\", \"death\", \"force\", \"die\", \"country\", \"member\", \"israeli\", \"war\", \"risk\", \"publish\", \"city\", \"crime\", \"serious\", \"state\", \"military\", \"police\", \"weapon\", \"land\", \"headache\", \"convince\", \"firearm\", \"proof\", \"trial\", \"blank\", \"library\", \"arab\", \"doctor\", \"occupy\", \"withdraw\", \"jewish\", \"fight\", \"suggest\", \"attack\", \"law\", \"government\", \"fire\", \"meet\", \"self\", \"field\", \"people\", \"murder\", \"live\", \"right\", \"public\", \"black\", \"carry\", \"conclusion\", \"ax\", \"physical\", \"graphic\", \"direct\", \"convert\", \"daughter\", \"capture\", \"human_being\", \"split\", \"accomplish\", \"pp\", \"discount\", \"tour\", \"applicable\", \"good_luck\", \"sister\", \"shareware\", \"genesis\", \"sabbath\", \"ceremonial\", \"tc\", \"oracle\", \"seventh\", \"workshop\", \"birthday\", \"everytime\", \"moral_agency\", \"max\", \"ei\", \"fq\", \"part\", \"end\", \"research\", \"player\", \"season\", \"tape\", \"goal\", \"trade\", \"national\", \"family\", \"possibility\", \"unit\", \"material\", \"pen\", \"signal\", \"site\", \"technical\", \"development\", \"radio\", \"communication\", \"factor\", \"electronic\", \"operation\", \"particularly\", \"circuit\", \"dept\", \"lab\", \"surface\", \"facility\", \"cap\", \"improve\", \"blue\", \"feature\", \"service\", \"rate\", \"design\", \"report\", \"contact\", \"increase\", \"level\", \"information\", \"low\", \"high\", \"center\", \"include\", \"control\", \"year\", \"number\", \"block\", \"complete\", \"point\", \"new\", \"child\", \"church\", \"woman\", \"armenian\", \"authority\", \"greek\", \"period\", \"turk\", \"turkish\", \"terrorism\", \"boy\", \"parent\", \"united_state\", \"male\", \"muslim\", \"percent\", \"somehow\", \"violence\", \"russian\", \"inhabitant\", \"role\", \"escape\", \"unknown\", \"serdar_argic\", \"closed\", \"proceed\", \"informed\", \"investigation\", \"violate\", \"reflect\", \"community\", \"aware\", \"soldier\", \"girl\", \"young\", \"village\", \"mother\", \"today\", \"man\", \"team\", \"game\", \"play\", \"faith\", \"win\", \"belief\", \"atheist\", \"wing\", \"score\", \"revelation\", \"fan\", \"atheism\", \"average\", \"bible\", \"universe\", \"interpretation\", \"pitch\", \"canadian\", \"stat\", \"offense\", \"production\", \"passage\", \"absolute\", \"origin\", \"birth\", \"hr\", \"handgun\", \"follower\", \"danger\", \"teaching\", \"star\", \"ice\", \"division\", \"defense\", \"year\", \"lose\", \"run\", \"final\", \"hit\", \"last\", \"pick\", \"key\", \"test\", \"encryption\", \"security\", \"server\", \"clipper\", \"secure\", \"motif\", \"tap\", \"clipper_chip\", \"agency\", \"pgp\", \"rsa\", \"dual\", \"crypto\", \"privacy\", \"export\", \"detailed\", \"warrant\", \"restriction\", \"cryptography\", \"cd\", \"second_amendment\", \"assure\", \"algorithm\", \"secrecy\", \"wiretap\", \"testing\", \"distribution_inet\", \"tavare\", \"secret\", \"license\", \"proposal\", \"public\", \"private\", \"chip\", \"message\", \"government\", \"technology\", \"use\", \"system\", \"information\", \"bit\", \"phone\", \"drive\", \"car\", \"bike\", \"engine\", \"nhl\", \"ride\", \"weight\", \"mile\", \"though\", \"rider\", \"auto\", \"oil\", \"quick\", \"noise\", \"travel\", \"corner\", \"spacecraft\", \"essentially\", \"wiring\", \"gear\", \"wind\", \"tire\", \"combination\", \"lift\", \"strip\", \"highway\", \"suitable\", \"sensor\", \"paint\", \"dirty\", \"road\", \"ground\", \"mirror\", \"light\", \"speed\", \"fast\", \"sport\", \"power\", \"front\", \"driver\", \"science\", \"reference\", \"pin\", \"section\", \"faq\", \"author\", \"internal\", \"object\", \"concept\", \"transfer\", \"processor\", \"generate\", \"cable\", \"gmt\", \"language\", \"blind\", \"description\", \"expansion\", \"modify\", \"connector\", \"radiation\", \"enable\", \"typically\", \"qualified\", \"button\", \"presence\", \"extension\", \"phase\", \"responce\", \"observe\", \"book\", \"panel\", \"reality\", \"define\", \"obtain\", \"copy\", \"operate\", \"describe\", \"cover\", \"function\", \"remove\", \"space\", \"notice\", \"launch\", \"mission\", \"orbit\", \"external\", \"vehicle\", \"satellite\", \"door\", \"moon\", \"flight\", \"rocket\", \"saturn\", \"planet\", \"energy\", \"fuel\", \"sky\", \"shuttle\", \"mar\", \"lunar\", \"park\", \"mph\", \"solar\", \"space_station\", \"ozone\", \"crew\", \"thermal\", \"environmental\", \"giant\", \"cbr\", \"earth\", \"observation\", \"environment\", \"cost\", \"fly\", \"model\", \"character\", \"picture\", \"format\", \"quality\", \"associate\", \"handle\", \"hole\", \"gift\", \"insurance\", \"excuse\", \"popular\", \"draft\", \"morality\", \"solid\", \"pub\", \"scale\", \"depth\", \"fee\", \"programmer\", \"hunt\", \"translate\", \"meter\", \"import\", \"runner\", \"sc\", \"leadership\", \"scare\", \"fish\", \"variation\", \"cost\", \"type\", \"license\", \"window\", \"monitor\", \"normal\", \"font\", \"left\", \"widget\", \"please_respond\", \"trivial\", \"impressive\", \"click\", \"upper\", \"publisher\", \"ms_window\", \"hassle\", \"dialog\", \"visualization\", \"judaism\", \"user_interface\", \"accessible\", \"enhanced_mode\", \"environment\", \"vendor\", \"do\", \"application\", \"routine\", \"size\", \"correctly\", \"value\", \"color\", \"window_manag\", \"create\", \"top\", \"position\", \"patient\", \"disease\", \"scientific\", \"computer_science\", \"animal\", \"health\", \"medical\", \"dog\", \"medicine\", \"luck\", \"km\", \"cure\", \"prevention\", \"television\", \"lemieux\", \"soviet_union\", \"adequately\", \"pitt\", \"treatment\", \"study\", \"treat\", \"dn\", \"diagnosis\", \"tumor\", \"eeg\", \"syndrome\", \"neurologist\", \"millie\", \"aunt\", \"gonorrhea\", \"department\", \"box\", \"club\", \"modem\", \"status\", \"primary\", \"spec\", \"sufficient\", \"public_access\", \"automatically\", \"investment\", \"campaign\", \"exposure\", \"galaxy\", \"global\", \"approval\", \"spectrum\", \"routine\", \"baud\", \"yehuda\", \"speedstar\", \"rating\", \"accelerator\", \"keyboard\", \"mixer\", \"enviroleague\", \"resident\", \"admiral\", \"transformer\", \"franchise\", \"taxpayer\", \"hockey\", \"color\", \"ripem\", \"fund\", \"connect\", \"slave\", \"moral\", \"property\", \"serial\", \"lock\", \"positively\", \"intent\", \"alarm\", \"converter\", \"unnecessary\", \"provision\", \"theft\", \"deter\", \"complexity\", \"flexible\", \"malfunction\", \"hudson\", \"seller\", \"serial_number\", \"specie\", \"lemon\", \"serial_port\", \"premise\", \"protocol\", \"selfish\", \"handshake\", \"steven_langlois\", \"freshman\", \"spoof_chip\", \"granted\", \"ofthe\", \"immoral\", \"evil\", \"marriage\", \"behavior\", \"item\", \"encrypt\", \"transmit\", \"compare\", \"drug\", \"film\", \"movie\", \"stereo\", \"japanese\", \"deficit\", \"plot\", \"mad\", \"harley\", \"deck\", \"legalization\", \"legalize\", \"dale_cook\", \"hypocrisy_t\", \"neighbor_political\", \"heroin\", \"fuck\", \"criminalization\", \"taxis\", \"convinced\", \"winco\", \"reagan_reagan\", \"addict\", \"vat\", \"advocate\", \"revenue\", \"carter\", \"cigarette\", \"pot\", \"dea\", \"illegal\", \"trend\", \"gonorrhea\", \"plane\", \"hi\", \"subscription\", \"steve\", \"divide\", \"evolve\", \"intersection\", \"rip\", \"upcoming\", \"script\", \"infinity\", \"tel_fax\", \"portal\", \"announce\", \"intersect\", \"offerre\", \"xterminal\", \"turkish_plane\", \"cargo\", \"colour\", \"elchibey\", \"architecture\", \"shipment\", \"refugee\", \"feal\", \"c\", \"calculation\", \"parallel\", \"confiscate\", \"azeri\", \"tv\", \"advertising\", \"logo\", \"circle\", \"_\"], \"Freq\": [53235.0, 17060.0, 13405.0, 9429.0, 9896.0, 6637.0, 5937.0, 3405.0, 7863.0, 5026.0, 1994.0, 2521.0, 5181.0, 2275.0, 10774.0, 6155.0, 7967.0, 2024.0, 8881.0, 2061.0, 3455.0, 1931.0, 1697.0, 1739.0, 2761.0, 2419.0, 2869.0, 3172.0, 6755.0, 1680.0, 7966.545838314614, 4229.185021018974, 2985.380783709859, 2784.2975548304184, 2454.7512985677645, 2293.2112545163554, 2271.4532377060236, 2267.4272383595285, 2790.9126272656677, 2157.2821254016053, 2086.1112588527376, 2052.4173234990435, 2023.458750914996, 2020.9499206857704, 1541.9577497076966, 1514.6568746508403, 1430.3407593496088, 1336.461783988673, 1288.4314690850535, 1250.894562556727, 1144.132058388616, 1141.7088481177534, 1108.228135413992, 998.8119295653679, 930.8831433963909, 927.9779589396234, 879.0818277179219, 837.9587064843041, 780.6307155586873, 775.520300145343, 6708.313810775388, 6800.929374721739, 3158.8726707896394, 2266.409725810869, 2838.796726443291, 10296.950692279872, 2047.8563028185276, 3725.8819521532, 2179.581367890767, 5831.220889191706, 2706.537467283005, 4534.688613901166, 3669.074143836936, 4212.976790640204, 4295.517739485862, 5119.089087387061, 6514.640224089724, 6308.004106606319, 5798.919002001636, 3025.7214336573275, 4182.130442742301, 3474.5112677286625, 3593.6164886481056, 3548.812019422127, 3104.6791665643523, 3215.8558552525014, 4479.317318219656, 3254.1573438727783, 3015.2648377279006, 3139.355249701295, 3105.0458433425583, 2859.555016493415, 3433.5001604605004, 3385.9582886831345, 2999.6116444782397, 2065.5468281361423, 1711.6696084089401, 1686.5034675453257, 1587.002573975975, 1354.6695685240315, 1119.4421871231534, 1059.3295147751323, 1055.3694405041801, 1045.5146814119794, 1038.0228540536384, 1033.7011466994284, 1031.9775590283293, 1021.185700998549, 990.7029637337506, 986.7319308845177, 938.2464974182786, 920.8926052488833, 912.3705778691091, 868.7592764980942, 865.5117908045639, 761.2728575694047, 696.365619897521, 627.3802924962793, 590.9017143030275, 576.1888863307746, 513.4440946080539, 495.07676810536384, 638.4514069460892, 718.1290285419641, 1725.7140099376109, 757.1716330636765, 2739.610289455291, 1405.7214635583493, 1897.269522625847, 1070.1950856348853, 1324.7105014401436, 2359.8981746001746, 4362.81981874406, 2423.382623525301, 1608.614388954204, 3871.0347921291286, 1963.1594263150837, 2247.0864486055143, 1663.6345069458878, 1485.7568312204, 1142.5512998141412, 1426.3434472949648, 1129.5191149989562, 1297.7345092251194, 1218.9886946038084, 2042.6758069493353, 2032.0088954445655, 1209.137213718786, 1319.1033622199318, 1403.0360499012427, 1535.101716945633, 1311.6669833944293, 6636.221079523704, 5936.1543391092555, 2868.741406791551, 2139.352154881919, 1400.8719841743955, 1347.344948281188, 1305.1374736040352, 951.3426140765297, 792.8241179897112, 707.0206675754738, 574.6952033257917, 546.5217200483804, 518.8965964726701, 504.8791033171236, 391.1751355586924, 382.7902478096147, 354.26459047342837, 338.14831649741996, 312.48322847451936, 305.1046232651802, 293.65544875275845, 272.64970767401513, 269.62288682307343, 257.48980766960386, 247.6115805195566, 232.13352373913327, 226.83380765449593, 224.35296005354473, 204.0225848088621, 202.62244117526754, 3382.11865085511, 8959.342486355947, 15394.092967003942, 774.7930268927248, 979.6431172808192, 1187.3134142208996, 904.074371965194, 7407.900131797241, 368.04586629319493, 8763.942358494762, 1327.9861623620716, 838.5167501913999, 1545.1206025941378, 1580.1564726074264, 806.374749459195, 1225.7226509803336, 764.8654981333528, 1517.7345104359933, 1323.3007713668774, 1357.634445207511, 828.2901562696994, 1004.9546242040518, 983.5322886648695, 894.7799012514665, 875.999657440655, 2692.7838127768587, 1657.4826748702103, 1517.8513457616223, 1208.873384676469, 1133.1169481038835, 1130.1546377384539, 1094.7982102966457, 944.8313712345524, 944.4169127740064, 942.4540112247996, 896.0710724780264, 896.0602867030294, 885.1591531886388, 845.4460938999315, 839.4195831829326, 786.2027335979355, 730.9250344867282, 630.7750621298554, 594.5210611078372, 523.0290571684708, 465.2194931894312, 451.6542732507727, 448.3259582870933, 422.95828087014223, 410.32088395679983, 401.2134193494038, 373.5327133217939, 369.25609878534203, 354.4148450143565, 352.5080349701469, 2082.464219304454, 2776.612170056871, 724.7880927637951, 1307.0724457619235, 741.7920586720671, 1417.3528888471042, 928.0283382919613, 882.9568840846755, 3788.0706132058576, 1310.9396662245665, 1361.3829291315185, 1217.9461377034177, 1647.9568097931324, 3255.757248520141, 1882.0842299051974, 1387.626307452988, 1289.7122755281148, 1206.441603040589, 1268.2068636873234, 1160.663050944538, 1496.2656702348122, 1304.4395121598552, 1346.7495342172651, 993.6597243988009, 1049.0903953645347, 1758.7832243608866, 1513.113030410149, 1318.7152720970523, 1041.8355904460238, 1031.9049203652705, 909.6260064392388, 831.0264283916453, 781.9563952657851, 765.3900106945478, 686.9209789439315, 656.667869846207, 650.1799980075049, 612.1054132065838, 598.2163487834147, 2755.8670134154845, 579.8621251250771, 565.9210801223896, 560.7186752030648, 550.2185523827802, 478.87342244912907, 467.08220453052303, 463.93550341000713, 450.0447459573996, 439.14534273493354, 425.8196910543798, 411.7698803496541, 409.31420978537767, 389.88651394789974, 387.6916614322636, 382.5048598383047, 591.7276533087695, 422.0663820617896, 829.3500547021744, 867.736706010416, 1650.1189210587706, 1717.0887595901531, 697.5671598714545, 488.90526247822334, 563.9864050496602, 583.8140676526054, 3073.3744597758605, 562.0694381497068, 1078.0162701533977, 1608.295786050708, 857.283667711544, 608.3393378568759, 600.8866680259669, 566.8427287426899, 53234.668473048056, 2418.3400270784223, 1671.0816023093466, 960.8546990674212, 770.2457842537513, 397.2175526116845, 396.29957210625486, 351.70146746068286, 280.1524207887954, 228.02734584399985, 192.4823176344135, 187.64874361411927, 182.32154040145957, 169.45330393372188, 156.63304029119737, 153.60621586539654, 124.26485487116099, 111.76946495074863, 109.5496079272499, 105.67693235024062, 83.94678167707791, 64.8575706753356, 56.79387907909927, 31.735212668113682, 31.26707865882013, 27.10651347545532, 24.15056683320774, 0.1461654139536297, 0.14358604300262107, 0.14356887630846282, 13.862035220546435, 6.249320685697568, 1384.4446525213261, 1179.4747140475497, 833.3219452773805, 797.5767921634662, 708.2244954290534, 631.5590876921674, 568.7380181581187, 549.3981042352248, 541.8026130926438, 534.8723198130319, 499.4099742657667, 469.2628723013913, 466.2359696829836, 463.9983432854044, 462.4796758845197, 453.3004315953018, 439.69741841288464, 426.8522925810043, 397.6372246504809, 379.5798845864333, 378.3835993474872, 373.3044800800378, 356.84711074561136, 296.95391502153996, 276.996686649573, 273.27562839668184, 270.1091376256821, 264.6372881987578, 262.23659354267227, 260.14252506657493, 460.65235125909845, 1036.3292792494583, 964.5850924530928, 906.7746098196895, 1257.2070971871403, 597.0206827739632, 806.6638701129546, 746.3699123714217, 1274.558741590862, 816.0807158409208, 1261.1634488736115, 637.1080244917202, 805.1469260225956, 559.8723240643947, 720.9548980173573, 651.4139637282611, 490.2013721508053, 474.2074194808149, 524.1017521202244, 501.8758777612134, 1679.5046031829263, 770.6138452614633, 749.611702108597, 694.5450470172698, 613.6073245552673, 526.7433928287713, 476.78173475037624, 476.2336939175831, 396.7190201169403, 393.29789412772175, 379.95759439119945, 363.61220323062133, 328.9708617216011, 285.7909709724133, 251.85355140621786, 247.78819058017768, 235.76918842560028, 229.75030978359686, 220.00718727180168, 213.79781157100487, 207.4228170146496, 198.28171100305912, 196.2726610240321, 195.35201314113365, 187.8178023682732, 186.2958326195934, 168.51499228683926, 162.7752409106038, 160.56497849362378, 159.7583149741508, 564.562275189235, 272.2681110185639, 448.0854090896805, 198.55510110303453, 293.4277818223172, 271.07326262886284, 222.29801441828562, 246.49498710157565, 275.8163551072488, 2060.436571883684, 1930.1227916468206, 1400.0217763209675, 1328.5765512545247, 1297.3736111914382, 838.174113629031, 677.6595526438194, 490.8716148223902, 480.4050754519802, 449.497822785181, 442.3256531345816, 360.82876964477816, 353.7339851842902, 306.51010118137583, 304.52124965919467, 295.5887345145777, 212.93298483804904, 208.45968886298257, 193.11285508500947, 185.1637674213357, 183.77880340774328, 162.31702517509834, 159.3145940021343, 158.30026954682674, 154.09181364731816, 131.64899130820893, 125.47086260302905, 125.15535099297725, 121.94559106716727, 119.7996354439193, 299.6244578314105, 219.25627594508381, 333.3802154027455, 208.24379485810314, 674.0696444886265, 340.8907000952598, 428.66861944873267, 225.2160279636354, 223.44567726217, 232.4966659798418, 190.5633519568957, 2519.858956742963, 1016.5078830551964, 734.4751865623177, 678.5646307946447, 674.4543561846083, 530.5516115816359, 429.4723677350704, 408.35524278620335, 402.2913561510203, 385.0935378934988, 357.32542989228705, 310.77774377108716, 298.8008702494517, 231.93899954093317, 216.72933100494862, 205.34788292693545, 185.4686734175002, 180.0557501743794, 157.62310547020402, 156.9127616721613, 136.84523842713403, 119.95919228808933, 114.04599439963323, 110.79887345977176, 97.89650072856087, 93.96472270826149, 92.63045153804799, 87.76141372281069, 85.24396547506504, 75.28932960392802, 328.1576234416709, 367.64873623799605, 197.88254319410692, 752.7318350849974, 302.5462668682979, 507.1092445523145, 418.838977286914, 418.7119318699668, 304.2214228808105, 305.18683478518557, 268.63020459149317, 212.06711957478333, 210.82784928038055, 186.09559368651256, 3403.8487060647253, 2023.3904155677399, 797.0949227746338, 540.4971951306422, 523.4587281079723, 498.20759405575706, 371.65593431457205, 350.0011890425471, 321.1371344397979, 275.87016985435616, 227.16263987569204, 223.90263306234456, 222.97089915443328, 187.4883065707492, 180.77224363730804, 164.2738179160113, 163.78276812045524, 157.0281032950528, 154.91503489625728, 151.07688459044218, 142.51937191062243, 139.9580406029917, 139.10065801988827, 123.46559047122724, 117.04049918835727, 109.84054883845106, 109.65697123250571, 104.01930441138538, 98.12096030474439, 96.07899517512244, 410.0236331362774, 336.04947837852677, 182.8785660744016, 321.73184093391336, 323.88684256378224, 249.85788727763787, 158.17126272179948, 256.07622732686406, 167.2109555067894, 170.67945209637975, 906.8675796694338, 881.134995510505, 740.9310803633141, 667.8585106745356, 523.1392125808653, 507.13432378027903, 456.28643805324856, 435.72904669102826, 389.3593856692924, 369.68197253022606, 343.873758603896, 323.15792326523035, 323.1191813568016, 274.8423600871409, 253.77759650341943, 249.13105887092814, 232.56070429921286, 199.08375556169244, 166.89075538561303, 166.8361188657003, 153.31413060823795, 140.43951461923575, 137.4373257242516, 122.86554955776307, 122.77486529503769, 121.01096899363533, 118.02511890948402, 114.01384428494208, 99.45810757755129, 98.01590816981664, 1622.5279659445976, 153.71806232049465, 470.19829814792473, 438.1648041641249, 241.0785358223022, 478.2585077765879, 213.46509574210842, 272.91824301189763, 277.0492583304865, 222.57583683088174, 208.72241792010658, 1695.8210316185546, 466.8744330667768, 464.38067764872113, 386.0461121019855, 376.0594890769019, 373.398138730593, 320.1376663634701, 304.49389646572763, 297.3796494207883, 285.5099780910745, 263.37861268523744, 245.05219354721575, 230.5738985325933, 212.72483044421298, 207.87658046302138, 197.6834087364244, 177.42567669116497, 174.29713391573267, 159.7054877342467, 154.03978858223525, 150.11814460346187, 144.38671932543414, 137.80006611214188, 132.91635763707774, 119.82438710551915, 110.63946218371723, 105.36963688779275, 104.65538770008305, 104.60304031368021, 102.12110191466051, 416.3407843219807, 165.42444899471352, 175.3872892464321, 198.61919170642625, 121.41197275042707, 877.5770014250193, 577.7361070747023, 534.6425725554864, 531.4750241407223, 474.69791813488376, 469.26776440446724, 417.70905907484854, 338.38872511983675, 334.34913262555295, 333.86992374569326, 287.98734458227, 266.0558568477342, 234.99731184006765, 231.70908784089713, 192.65535212252598, 155.2569514806578, 155.20749292110395, 148.71289361239164, 127.8054703852812, 127.0945242223506, 114.57921177551223, 104.86112058958163, 101.20453622576949, 97.88149455598979, 93.0397683988193, 92.14157840113725, 91.9019326998952, 91.24618041891387, 89.74877989173156, 88.33692781850502, 960.6179229159467, 236.0574524881242, 102.9100588116751, 1992.9955030031572, 455.5536675102062, 441.83809357841363, 253.10934561071426, 182.3455691946838, 163.6771606980765, 150.3326102511748, 137.09009647236772, 86.14072462538876, 81.18333525088225, 78.32996281148549, 71.1447133102504, 45.831894308306495, 38.240008962090656, 31.0697747035894, 23.542127431151222, 22.859921878569782, 13.766501095221013, 9.475830362156533, 1.059215598004621, 139.76836922611446, 57.03112566914361, 326.1790316456913, 85.36741915772255, 9.291797816486016, 52.73950880833066, 11.194761209577136, 44.19950484502917, 0.05941653696895009, 0.05940766266046863, 35.458140336604835, 15.356691586354176, 9.68349098310301, 630.4146694199234, 333.86237354048757, 302.75009153264966, 279.0946418797811, 239.41104016281434, 227.89663068630023, 208.34696212030772, 184.46879847190777, 94.06008272394325, 82.72744410415457, 74.12246814457762, 71.33000013175305, 63.004594661417805, 45.772557945431245, 34.12257481642296, 29.08479132632232, 26.02758461311311, 15.191427811098658, 225.69323827273084, 167.88904251127573, 52.782758252677844, 0.044865037376080545, 0.04486164730177915, 0.04486081250870794, 0.044857732936707424, 0.04485475007853833, 0.04485057102298061, 0.04485014344604169, 0.04485014344604169, 0.04484737946654371, 8.569331842857425, 230.81934610323316, 190.1873579483939, 156.68553235098972, 154.8334362205432, 115.22155746706879, 111.43082395726547, 100.69257174286652, 88.29725661229337, 86.57087564416643, 79.3444262016825, 66.30601957746653, 65.54033861280385, 53.32769214214395, 33.34177035720003, 28.859863928913995, 18.20069489387859, 112.11905014976666, 0.04306697319145488, 0.04306658904173493, 0.043066187587973544, 0.04306637447162109, 0.04306702856438749, 0.04306748193027319, 0.04306592110573538, 0.043066769003765895, 0.04306593494896853, 0.04306587265441935, 0.043065782673403864, 0.04306600762594257, 0.04306529469943528, 0.04306885933197175, 0.04306817409193076, 0.04306905659804416, 0.04306663057143439, 0.04306655443365205, 0.043066903975289124, 239.06624174227593, 145.1227958696245, 116.9087090722004, 93.96990884501164, 57.0981416580142, 55.07818616473912, 46.09487437092273, 31.26736787647934, 28.647268597618684, 18.813757926014233, 17.817087556273236, 17.18581412157383, 15.89087757624543, 10.602117392306114, 3.3072523731487946, 0.034438993488352186, 0.03443917229832395, 0.034438461763962466, 0.03443735361269009, 0.03443726891322978, 0.03443706187010458, 0.03443685247421659, 0.03443764064975002, 0.03443676306923071, 0.03443646662111963, 0.03443641721310111, 0.03443641250757554, 0.03443655602610551, 0.034436318397064083, 0.034436318397064083, 0.03443660778688681, 0.0344372477383647, 0.03443692776262575, 0.03443696305406755, 0.03443775593512655, 0.03443820060729318, 0.03443694893749083, 0.03443676777475628, 288.7382327321106, 58.549118100784725, 53.949675152562044, 52.10539837658914, 50.13530407377753, 44.96675919817139, 41.42476350152882, 28.63917060528544, 19.307085031191967, 13.853454253429632, 0.028521168135372862, 0.02852006176501356, 0.028519957284844723, 0.02851918674359954, 0.02851918674359954, 0.028519108383472914, 0.028519108383472914, 0.028518886363114133, 0.028519113980624816, 0.02851890502028714, 0.028518733374295478, 0.02851871285140517, 0.028518651282734248, 0.028518890094548735, 0.0285190692034096, 0.028518860243071924, 0.028518740837164682, 0.028518589714063326, 0.02851876322577229, 0.028518369559421847, 0.028519054277671194, 0.028518765091489588, 0.028518701657101367, 92.38598627548025, 38.92568364822365, 26.774245174394643, 24.977933157561967, 19.129276743542814, 13.532183582258522, 12.826741404348688, 12.28517892585577, 10.145412741745655, 8.663665338353818, 8.416773686842733, 7.214270516571429, 5.87134219585173, 0.02034965065826785, 0.02034840057362637, 0.020348111913485692, 0.020348111913485692, 0.02034817709480778, 0.020348123553007493, 0.020348139848338016, 0.020347969911319715, 0.020348114241390054, 0.020347969911319715, 0.020347720825553164, 0.020347678923274676, 0.020348805628985063, 0.020347827909153737, 0.020347907057901987, 0.02034763934890055, 0.020347641676804914, 0.020348365655060964, 0.020348118897198775, 0.020348076994920288, 0.020348018797311282, 0.02034822598079935], \"Total\": [53235.0, 17060.0, 13405.0, 9429.0, 9896.0, 6637.0, 5937.0, 3405.0, 7863.0, 5026.0, 1994.0, 2521.0, 5181.0, 2275.0, 10774.0, 6155.0, 7967.0, 2024.0, 8881.0, 2061.0, 3455.0, 1931.0, 1697.0, 1739.0, 2761.0, 2419.0, 2869.0, 3172.0, 6755.0, 1680.0, 7967.729913780012, 4230.369096484372, 2986.5648591752556, 2785.481630295815, 2455.9570630517937, 2294.395329981752, 2272.6373131714204, 2268.611313824925, 2792.4354035420206, 2158.466200867002, 2087.2953343238514, 2053.6013989644402, 2024.6428263861094, 2022.1339961511671, 1543.1418251730934, 1515.8409501162373, 1431.5248348222683, 1337.64585945407, 1289.6155445504505, 1252.0786380221239, 1145.316133854013, 1142.8929235892115, 1109.412210879389, 999.9960050307644, 932.0672188743906, 929.1620344050199, 880.2659031884085, 839.1427819497006, 781.8147910240838, 776.7043756174751, 6755.647164169767, 6871.818444023497, 3170.5391066722577, 2273.6995708852223, 2855.4383577662516, 10774.333856854599, 2074.5336077858283, 3849.2060329013675, 2216.5552968327534, 6280.338292212619, 2817.959443185403, 4867.107348975481, 3967.1114170874525, 4806.630767914591, 4931.07704082157, 6188.0556638913085, 8625.037460465088, 8341.131033618214, 7842.712840518303, 3431.8470696323243, 5540.88033210878, 4331.791045639655, 4927.408604674796, 5026.847869342538, 4187.698510972209, 4531.673142930331, 8881.763702644332, 4658.311425341353, 4216.092614811697, 6021.884493167696, 13405.139319043852, 4141.336613196527, 3434.692305231492, 3387.150433454126, 3000.803789249231, 2066.7389729071338, 1712.8617531799314, 1687.6956123223783, 1588.1947187469664, 1355.861713295023, 1120.6734357265354, 1060.5216595461238, 1056.5615852751716, 1046.7068261829709, 1039.2149988246297, 1034.8932914704196, 1033.1697037993208, 1022.37784576954, 991.8951085047416, 987.9240791577042, 939.4386421892697, 922.0847500249645, 913.5627226401001, 869.9514212690852, 866.7039355874217, 762.4650023403957, 697.557764668512, 628.5724372672703, 592.0938592308153, 577.3810311078269, 514.6362393790449, 496.2689128763548, 640.4000741908434, 721.6153893590277, 1754.74541402265, 762.9289733804368, 2880.0688962048275, 1539.9085875889427, 2221.815723950651, 1148.3963279802838, 1495.2068619246443, 3367.790553283642, 8881.763702644332, 3813.7180900774442, 2111.9325621312687, 7863.370142983023, 2963.755766213589, 3964.3443247599366, 2670.723276116686, 2185.407270287345, 1315.3660300735378, 2309.7995322208812, 1292.7403785111587, 1863.239247523502, 1637.7943885130617, 7842.712840518303, 8341.131033618214, 1680.7971793281772, 2520.09743430162, 4658.311425341353, 13405.139319043852, 6021.884493167696, 6637.410636886333, 5937.343896471884, 2869.930964154178, 2140.5417122761896, 1402.0615415370225, 1348.534505643815, 1306.3270309666623, 952.5321714391566, 794.0136753684479, 708.2102249381007, 575.8847607183226, 547.7112774110074, 520.0861538352971, 506.06866068517303, 392.3646929213192, 383.9798051911258, 355.4541478360552, 339.3378747668772, 313.67278585363925, 306.2941806671655, 294.84500617015294, 273.83926514910064, 270.8124442474336, 258.6793650322307, 248.80113788218358, 233.32308112547216, 228.0233650743204, 225.5425174161717, 205.21214217777012, 203.81199854516257, 3455.2444260451866, 9429.331798540847, 17060.956235756654, 802.3421328653757, 1028.1839033886417, 1301.8312523624622, 1004.3421393590523, 9896.901590383884, 380.69196173535437, 13405.139319043852, 1687.161040964771, 1025.739760808838, 2415.284195613975, 2901.6038714131596, 1339.3501047585173, 2901.1285725391826, 1287.2724607297555, 4819.951033848003, 4016.482906013814, 5540.88033210878, 1720.3385521617759, 3367.790553283642, 4187.698510972209, 6155.455000928441, 8625.037460465088, 2693.9647544905524, 1658.663616583904, 1519.032287475316, 1210.0543263955851, 1134.2978898283534, 1131.3355794521476, 1095.9791520170747, 946.0123129482457, 945.5978544876997, 943.6349529384929, 897.252014196803, 897.2412284167227, 886.3400949023321, 846.6270356208873, 840.6005249020484, 787.3836753590944, 732.1059762004215, 631.9560039180175, 595.7020028215305, 524.2099988821641, 466.4004349031245, 452.8352149695492, 449.5069000007866, 424.13922258892575, 411.50182567722874, 402.3943610822053, 374.7136550354872, 370.43704049903533, 355.5957867280498, 353.68897668892345, 2093.1376829673263, 2800.249428931968, 731.3115317294062, 1354.9642328913594, 773.8838011001128, 1589.1486989125842, 1003.8754259554887, 969.4458454372988, 5181.5630372261085, 1548.1122763547974, 1634.3713983162304, 1470.547091259551, 2311.420701418766, 6155.455000928441, 3172.526441087077, 2169.9936973367367, 1966.1170883407972, 1868.2823246542337, 2480.8164959898036, 1965.7648510953331, 4158.9116687287315, 4927.408604674796, 6021.884493167696, 1614.3642015920493, 4819.951033848003, 1759.9691515994823, 1514.2989576487448, 1319.901199335648, 1043.0215176846195, 1033.0908476038662, 910.8119336778346, 832.2123563149063, 783.1423225043809, 766.5759379331436, 688.1069062308399, 657.8537971042937, 651.3659252461007, 613.2913404451796, 599.4022760271006, 2761.3330015275124, 581.0480523709355, 567.1070073609854, 561.9046024416606, 551.4044796337218, 480.0593498079099, 468.2681318028041, 465.1214306486028, 451.2306732232953, 440.33126997352923, 427.0056184128928, 412.9558076126361, 410.50013702397337, 391.07244119158565, 388.87758867714035, 383.69078709989435, 595.5589302812268, 424.8177214776639, 870.78682099712, 948.988997900272, 1965.0288891348364, 2136.924478267015, 780.862798079704, 505.66916608001833, 617.7311219189897, 657.0063710644122, 7863.370142983023, 624.9091617981094, 1784.8963476441718, 4025.0654018281684, 1611.1392896034358, 781.8571884482083, 852.5681234179293, 713.0522883475469, 53235.78311064037, 2419.4546649807576, 1672.1962399782099, 961.969337030154, 771.3604220603005, 398.3321903961047, 397.41421011736367, 352.81610526943433, 281.26705859459315, 229.14198357164932, 193.59695540218493, 188.7633814557577, 183.4361781553309, 170.5679423018656, 157.7476780135464, 154.72085356646323, 125.3794925244003, 112.88410264954886, 110.66424561171294, 106.79157004737073, 85.06141958137489, 65.97220837509795, 57.908517091715325, 32.84985037394711, 32.38171642685446, 28.221151214380395, 25.265204497177074, 1.2608067773061906, 1.2582415426174445, 1.2582064788051681, 2415.0839215908404, 2273.6995708852223, 1385.6278449365523, 1180.657906468837, 834.5051376986677, 798.7599845837755, 709.4076878503406, 632.7422801073934, 569.9212130600005, 550.5812966623175, 542.9858055726036, 536.055512228258, 500.5931666809926, 470.44606473470657, 467.4191621032927, 465.1815357006303, 463.6628682997456, 454.4836240105277, 440.88061082811055, 428.0354850016528, 398.8204170657068, 380.7630770070818, 379.5667917627131, 374.48767250132494, 358.03030316083726, 298.13710743676586, 278.1798790647989, 274.45882081917017, 271.292330040908, 265.8204806202648, 263.41978596976486, 261.32571748180084, 463.8934730450902, 1080.0052695088275, 1028.0484158800136, 983.0778194800126, 1462.4324904310429, 654.8969667784229, 931.210370611683, 977.540665200571, 2244.60604796425, 1174.6255590622427, 2265.8133169253065, 1022.783866081076, 2480.8164959898036, 1051.0062552549043, 5026.847869342538, 3223.5629438395645, 678.0237517546797, 661.4792836560999, 3813.7180900774442, 4016.482906013814, 1680.6945103884805, 771.7987952852667, 750.7966521324004, 695.7299970410731, 614.7922745844932, 527.9283428525747, 477.96668479526636, 477.41864394138634, 397.9039701407436, 394.48284419702026, 381.1425444217383, 364.7971532544246, 330.1558117747326, 286.97592099621653, 253.03850143002123, 248.97314062264553, 236.95413846685432, 230.93525981298586, 221.19213730286754, 214.98276160039387, 208.60776704387553, 199.46666102686248, 197.45761109660253, 196.53696316493702, 189.00275248237185, 187.48078264339676, 169.69994243155378, 163.96019097076595, 161.7499285412199, 160.94326503081905, 588.998629553298, 325.8280253612728, 728.8130056646729, 255.9397201857338, 782.0942079339532, 624.7735395185738, 361.1914508105274, 908.6082658509332, 2185.407270287345, 2061.6340093061017, 1931.3202290692386, 1401.2192137489712, 1329.7739886826594, 1298.5710486138562, 839.3715510807663, 678.8569900719541, 492.06905224480806, 481.6025128743981, 450.6952602133156, 443.5230905569995, 362.02620707291277, 354.93142263287814, 307.70753860951044, 305.7186870873293, 296.78617196209206, 214.13042226046696, 209.6571262854005, 194.3102925074274, 186.3612048493393, 184.9762408368968, 163.514462603233, 160.5120314431171, 159.49770702815997, 155.2892511608143, 132.84642875214357, 126.66830003103262, 126.35278842111192, 123.14302852563816, 120.99707287205398, 349.8364012228206, 248.56300108586942, 700.0746731143224, 333.81984707614293, 5026.847869342538, 1278.9557104162989, 3172.526441087077, 482.72780672681097, 671.6989148015149, 2287.6587715165074, 688.2798495363488, 2521.055004980319, 1017.7039313023506, 735.6712347996735, 679.7606790320004, 675.650404421964, 531.7476598189917, 430.66841598420405, 409.55129102355903, 403.487404388376, 386.2895861308545, 358.52147812964273, 311.97379200844284, 299.9969184868074, 233.13504788229085, 217.92537924230436, 206.5439311642912, 186.66472165485595, 181.251798517055, 158.81915370755976, 158.10880992987822, 138.04128666448977, 121.15524053218067, 115.2420426425746, 111.99492176358162, 99.09254897063171, 95.16077094561723, 93.82649977540373, 88.95746197276968, 86.44001372387149, 76.48537784128376, 355.9979944784801, 471.6890591995195, 237.94875959028818, 1611.1392896034358, 630.51647297306, 1614.3642015920493, 1720.3385521617759, 2136.924478267015, 1287.2724607297555, 6155.455000928441, 5181.5630372261085, 2244.60604796425, 2311.420701418766, 1025.739760808838, 3405.0423109891894, 2024.5840204922035, 798.2885276990976, 541.690800055106, 524.6523330384974, 499.4011989802208, 372.8495393003082, 351.19479397329184, 322.3307394231207, 277.0637747788199, 228.35624480015582, 225.09623798680835, 224.16450407889707, 188.68191149521297, 181.96584862076017, 165.46751221601102, 164.976373066957, 158.22170828361197, 156.10863982543614, 152.2704895206227, 143.71297684745883, 141.15164552745549, 140.29426300940165, 124.65919540295349, 118.23410411282104, 111.03415378179913, 110.8505762189226, 105.21290933584915, 99.33082123211548, 97.27260012318683, 570.5372196821852, 512.6919198384264, 263.22238365075015, 851.4011731197409, 931.5768998238291, 1049.8172516456684, 297.2331504988029, 1798.7714679100836, 411.7930737587062, 1589.1486989125842, 908.0626148930527, 882.3300307284071, 742.126115593035, 669.0535458924378, 524.3342477987675, 508.32935899818096, 457.4814732711505, 436.9240819089302, 390.55442090004243, 370.8770077610636, 345.06879382853356, 324.3529584948359, 324.31421657470355, 276.0373953413725, 254.97263172132145, 250.32609415112475, 233.75573951711488, 200.2787907856557, 168.08579060859827, 168.0311540959536, 154.5091659305741, 141.634549842221, 138.63236094723683, 124.06058483126088, 123.96990051802291, 122.20600423543216, 119.22015413280857, 115.2088795028441, 100.65314288197871, 99.21094340126218, 1739.0335057235836, 162.84151468787937, 584.3268245388049, 546.8039615367979, 362.3708193903955, 1204.4121331270915, 409.3337316629701, 755.069331859977, 860.6221739854253, 728.817912527789, 622.4886517267386, 1697.0181258715816, 468.0715273198039, 465.57777190174824, 387.2432063550126, 377.256583329929, 374.59523305952735, 321.3347606215804, 305.69099071875473, 298.5767436855494, 286.7070723441016, 264.57570693826455, 246.24928780024297, 231.7709927907037, 213.9219247033014, 209.0736747160486, 198.88050298945163, 178.62277094419218, 175.4942281687599, 160.90258199269644, 155.23688283526246, 151.31523887006335, 145.58381358354455, 138.9971603651691, 134.11345189010495, 121.02148135854635, 111.8365564753635, 106.56673114833299, 105.85248199656425, 105.80013456670741, 103.31819629162938, 822.0586577775539, 218.15877333775757, 316.2933532369608, 1160.3684247713109, 219.61934541078065, 878.769406002333, 578.9285116396703, 535.8349771261711, 532.6674287056903, 475.89032269985165, 470.4601689999339, 418.9014636398164, 339.58112968480464, 335.5415372365741, 335.06232831574437, 289.1797491940672, 267.2482614127021, 236.18971641860986, 232.90149240821782, 193.84775668749393, 156.44935605104828, 156.39989749213314, 149.90529817735958, 128.99787495024913, 128.28692878731854, 115.7716163404802, 106.05352518240693, 102.3969407979999, 99.07389912095775, 94.23217297590973, 93.33398297118842, 93.09433730328333, 92.43858501434914, 90.94118447877821, 89.52933243334257, 1160.3684247713109, 1548.1122763547974, 471.6890591995195, 1994.1942921534217, 456.7524566604706, 443.0368827388515, 254.30813476097873, 183.54435835634288, 164.87594984834098, 151.5313994156879, 138.28888567881444, 87.33951379431772, 82.38212440114673, 79.52875201047438, 72.34350250304178, 47.03068346399352, 39.43879812408907, 32.268563853853884, 24.740916596191205, 24.0587110344199, 14.965290245485491, 10.674619621672488, 2.2580047482690984, 316.2933532369608, 134.5548309134348, 2275.025818883543, 969.4458454372988, 122.5665729158958, 703.8304461634749, 153.25849714980808, 794.3417151590235, 1.258319505752794, 1.2582100088012125, 1027.2865059318308, 611.3861069975616, 681.6460186631806, 631.6280228343743, 335.07572695493843, 303.9634449471005, 280.30799529423194, 240.6243935937583, 229.1099841155266, 209.5603155347586, 185.68215188635864, 95.27343613839415, 83.94079753047215, 75.33582183203664, 72.54335354620395, 64.21794810155981, 46.98591139163449, 35.33592824444812, 30.29814478834918, 27.240938043786496, 16.40478122554954, 302.97498323412367, 754.6888831232325, 395.94398738536233, 1.258253183752365, 1.2582534612435055, 1.2582428012336213, 1.2582371354630058, 1.2582370763964241, 1.2582219069924978, 1.2582199081760668, 1.2582200071531895, 1.2582609943808016, 539.4313439123075, 232.03447056082382, 191.40248241204577, 157.90065680858038, 156.04856068322405, 116.43668194452515, 112.64594841993934, 101.90769620587972, 89.51238106988401, 87.78600010717963, 80.55955065927314, 67.5211440680806, 66.7554630902602, 54.542816611712155, 34.55689482676824, 30.074988415822006, 19.41581935146924, 122.5665729158958, 1.2581983271776886, 1.2581946180564967, 1.258197215150928, 1.258205785732988, 1.2582253079791015, 1.2582385691584417, 1.258197351985343, 1.2582229030494854, 1.2582010551146685, 1.2582013397505751, 1.2582001598952701, 1.258210329824425, 1.2581932691445952, 1.258309711931734, 1.258319505752794, 1.2583951365337827, 1.2582480258619897, 1.258276013612674, 1.2583628379836904, 240.2899950458049, 146.34654919650393, 118.13246238115188, 95.1936621485406, 58.32189503723441, 56.30193947398482, 47.31862767445169, 32.4911211800083, 29.87102193747947, 20.037511240388273, 19.04084095683295, 18.409567425102786, 17.11463100843675, 11.825870744019301, 4.531005681767949, 1.2582077967781577, 1.2582234585951322, 1.2582338103535677, 1.2582051420038036, 1.2582097053656967, 1.2582072666201962, 1.2582018225391953, 1.2582314649367314, 1.2582000292030058, 1.2581934435469795, 1.2581917466464598, 1.2581960518049136, 1.2582040920674833, 1.2581966674845553, 1.2581966674845553, 1.2582073496887147, 1.25823358166773, 1.258221006118935, 1.2582250373619568, 1.2582672938624495, 1.25830296821778, 1.2582335673958023, 1.258303275042277, 289.96790422939875, 59.7787895980729, 55.17934664985022, 53.335069873877316, 51.36497557832817, 46.196430709033834, 42.65443500607946, 29.868842102573616, 20.536756547812004, 15.083125750717807, 1.2581974552568898, 1.2581953005070932, 1.2581949800059808, 1.2581930979758513, 1.2581930979758513, 1.2581929416401112, 1.2581960517672304, 1.2581920702364628, 1.258205065045683, 1.2581958968809661, 1.2581926481503978, 1.258193190620965, 1.2581933500601592, 1.2582040710808025, 1.2582134684360846, 1.2582046555379993, 1.2582016774170797, 1.2581964208058931, 1.2582062779746934, 1.2581909977946426, 1.2582248678885906, 1.258213226191491, 1.2582609943808016, 93.62382796165747, 40.163525334400866, 28.012086996520843, 26.215774843739187, 20.367118478204667, 14.770025296231186, 14.064583096806961, 13.52302061711621, 11.383254464485773, 9.90150702995358, 9.654615377735043, 8.452112202748648, 7.109183930497582, 1.258263745793175, 1.2581955494548858, 1.2581908789120861, 1.2581909464041112, 1.2581966813484085, 1.2581979061728825, 1.2582002310592262, 1.2581938567238597, 1.258203376486477, 1.2581949628374396, 1.258194239958162, 1.2581932358031487, 1.2582630884639336, 1.2582057684059509, 1.2582107928641644, 1.2581942900252803, 1.258195422876674, 1.258241442831107, 1.2582272486982595, 1.2582254378469335, 1.2582262946367317, 1.25825162997193], \"Category\": [\"Default\", \"Default\", \"Default\", \"Default\", \"Default\", \"Default\", \"Default\", \"Default\", \"Default\", \"Default\", \"Default\", \"Default\", \"Default\", \"Default\", \"Default\", \"Default\", \"Default\", \"Default\", \"Default\", \"Default\", \"Default\", \"Default\", \"Default\", \"Default\", \"Default\", \"Default\", \"Default\", \"Default\", \"Default\", \"Default\", \"Topic1\", \"Topic1\", \"Topic1\", \"Topic1\", \"Topic1\", \"Topic1\", \"Topic1\", \"Topic1\", \"Topic1\", \"Topic1\", \"Topic1\", \"Topic1\", \"Topic1\", \"Topic1\", \"Topic1\", \"Topic1\", \"Topic1\", \"Topic1\", \"Topic1\", \"Topic1\", \"Topic1\", \"Topic1\", \"Topic1\", \"Topic1\", \"Topic1\", \"Topic1\", \"Topic1\", \"Topic1\", \"Topic1\", \"Topic1\", \"Topic1\", \"Topic1\", \"Topic1\", \"Topic1\", \"Topic1\", \"Topic1\", \"Topic1\", \"Topic1\", \"Topic1\", \"Topic1\", \"Topic1\", \"Topic1\", \"Topic1\", \"Topic1\", \"Topic1\", \"Topic1\", \"Topic1\", \"Topic1\", \"Topic1\", \"Topic1\", \"Topic1\", \"Topic1\", \"Topic1\", \"Topic1\", \"Topic1\", \"Topic1\", \"Topic1\", \"Topic1\", \"Topic1\", \"Topic1\", \"Topic1\", \"Topic1\", \"Topic2\", \"Topic2\", \"Topic2\", \"Topic2\", \"Topic2\", \"Topic2\", \"Topic2\", \"Topic2\", \"Topic2\", \"Topic2\", \"Topic2\", \"Topic2\", \"Topic2\", \"Topic2\", \"Topic2\", \"Topic2\", \"Topic2\", \"Topic2\", \"Topic2\", \"Topic2\", \"Topic2\", \"Topic2\", \"Topic2\", \"Topic2\", \"Topic2\", \"Topic2\", \"Topic2\", \"Topic2\", \"Topic2\", \"Topic2\", \"Topic2\", \"Topic2\", \"Topic2\", \"Topic2\", \"Topic2\", \"Topic2\", \"Topic2\", \"Topic2\", \"Topic2\", \"Topic2\", \"Topic2\", \"Topic2\", \"Topic2\", \"Topic2\", \"Topic2\", \"Topic2\", \"Topic2\", \"Topic2\", \"Topic2\", \"Topic2\", \"Topic2\", \"Topic2\", \"Topic2\", \"Topic2\", \"Topic2\", \"Topic2\", \"Topic2\", \"Topic2\", \"Topic2\", \"Topic2\", \"Topic3\", \"Topic3\", \"Topic3\", \"Topic3\", \"Topic3\", \"Topic3\", \"Topic3\", \"Topic3\", \"Topic3\", \"Topic3\", \"Topic3\", \"Topic3\", \"Topic3\", \"Topic3\", \"Topic3\", \"Topic3\", \"Topic3\", \"Topic3\", \"Topic3\", \"Topic3\", \"Topic3\", \"Topic3\", \"Topic3\", \"Topic3\", \"Topic3\", \"Topic3\", \"Topic3\", \"Topic3\", \"Topic3\", \"Topic3\", \"Topic3\", \"Topic3\", \"Topic3\", \"Topic3\", \"Topic3\", \"Topic3\", \"Topic3\", \"Topic3\", \"Topic3\", \"Topic3\", \"Topic3\", \"Topic3\", \"Topic3\", \"Topic3\", \"Topic3\", \"Topic3\", \"Topic3\", \"Topic3\", \"Topic3\", \"Topic3\", \"Topic3\", \"Topic3\", \"Topic3\", \"Topic3\", \"Topic3\", \"Topic4\", \"Topic4\", \"Topic4\", \"Topic4\", \"Topic4\", \"Topic4\", \"Topic4\", \"Topic4\", \"Topic4\", \"Topic4\", \"Topic4\", \"Topic4\", \"Topic4\", \"Topic4\", \"Topic4\", \"Topic4\", \"Topic4\", \"Topic4\", \"Topic4\", \"Topic4\", \"Topic4\", \"Topic4\", \"Topic4\", \"Topic4\", \"Topic4\", \"Topic4\", \"Topic4\", \"Topic4\", \"Topic4\", \"Topic4\", \"Topic4\", \"Topic4\", \"Topic4\", \"Topic4\", \"Topic4\", \"Topic4\", \"Topic4\", \"Topic4\", \"Topic4\", \"Topic4\", \"Topic4\", \"Topic4\", \"Topic4\", \"Topic4\", \"Topic4\", \"Topic4\", \"Topic4\", \"Topic4\", \"Topic4\", \"Topic4\", \"Topic4\", \"Topic4\", \"Topic4\", \"Topic4\", \"Topic4\", \"Topic5\", \"Topic5\", \"Topic5\", \"Topic5\", \"Topic5\", \"Topic5\", \"Topic5\", \"Topic5\", \"Topic5\", \"Topic5\", \"Topic5\", \"Topic5\", \"Topic5\", \"Topic5\", \"Topic5\", \"Topic5\", \"Topic5\", \"Topic5\", \"Topic5\", \"Topic5\", \"Topic5\", \"Topic5\", \"Topic5\", \"Topic5\", \"Topic5\", \"Topic5\", \"Topic5\", \"Topic5\", \"Topic5\", \"Topic5\", \"Topic5\", \"Topic5\", \"Topic5\", \"Topic5\", \"Topic5\", \"Topic5\", \"Topic5\", \"Topic5\", \"Topic5\", \"Topic5\", \"Topic5\", \"Topic5\", \"Topic5\", \"Topic5\", \"Topic5\", \"Topic5\", \"Topic5\", \"Topic5\", \"Topic6\", \"Topic6\", \"Topic6\", \"Topic6\", \"Topic6\", \"Topic6\", \"Topic6\", \"Topic6\", \"Topic6\", \"Topic6\", \"Topic6\", \"Topic6\", \"Topic6\", \"Topic6\", \"Topic6\", \"Topic6\", \"Topic6\", \"Topic6\", \"Topic6\", \"Topic6\", \"Topic6\", \"Topic6\", \"Topic6\", \"Topic6\", \"Topic6\", \"Topic6\", \"Topic6\", \"Topic6\", \"Topic6\", \"Topic6\", \"Topic6\", \"Topic6\", \"Topic7\", \"Topic7\", \"Topic7\", \"Topic7\", \"Topic7\", \"Topic7\", \"Topic7\", \"Topic7\", \"Topic7\", \"Topic7\", \"Topic7\", \"Topic7\", \"Topic7\", \"Topic7\", \"Topic7\", \"Topic7\", \"Topic7\", \"Topic7\", \"Topic7\", \"Topic7\", \"Topic7\", \"Topic7\", \"Topic7\", \"Topic7\", \"Topic7\", \"Topic7\", \"Topic7\", \"Topic7\", \"Topic7\", \"Topic7\", \"Topic7\", \"Topic7\", \"Topic7\", \"Topic7\", \"Topic7\", \"Topic7\", \"Topic7\", \"Topic7\", \"Topic7\", \"Topic7\", \"Topic7\", \"Topic7\", \"Topic7\", \"Topic7\", \"Topic7\", \"Topic7\", \"Topic7\", \"Topic7\", \"Topic7\", \"Topic7\", \"Topic8\", \"Topic8\", \"Topic8\", \"Topic8\", \"Topic8\", \"Topic8\", \"Topic8\", \"Topic8\", \"Topic8\", \"Topic8\", \"Topic8\", \"Topic8\", \"Topic8\", \"Topic8\", \"Topic8\", \"Topic8\", \"Topic8\", \"Topic8\", \"Topic8\", \"Topic8\", \"Topic8\", \"Topic8\", \"Topic8\", \"Topic8\", \"Topic8\", \"Topic8\", \"Topic8\", \"Topic8\", \"Topic8\", \"Topic8\", \"Topic8\", \"Topic8\", \"Topic8\", \"Topic8\", \"Topic8\", \"Topic8\", \"Topic8\", \"Topic8\", \"Topic8\", \"Topic9\", \"Topic9\", \"Topic9\", \"Topic9\", \"Topic9\", \"Topic9\", \"Topic9\", \"Topic9\", \"Topic9\", \"Topic9\", \"Topic9\", \"Topic9\", \"Topic9\", \"Topic9\", \"Topic9\", \"Topic9\", \"Topic9\", \"Topic9\", \"Topic9\", \"Topic9\", \"Topic9\", \"Topic9\", \"Topic9\", \"Topic9\", \"Topic9\", \"Topic9\", \"Topic9\", \"Topic9\", \"Topic9\", \"Topic9\", \"Topic9\", \"Topic9\", \"Topic9\", \"Topic9\", \"Topic9\", \"Topic9\", \"Topic9\", \"Topic9\", \"Topic9\", \"Topic9\", \"Topic9\", \"Topic10\", \"Topic10\", \"Topic10\", \"Topic10\", \"Topic10\", \"Topic10\", \"Topic10\", \"Topic10\", \"Topic10\", \"Topic10\", \"Topic10\", \"Topic10\", \"Topic10\", \"Topic10\", \"Topic10\", \"Topic10\", \"Topic10\", \"Topic10\", \"Topic10\", \"Topic10\", \"Topic10\", \"Topic10\", \"Topic10\", \"Topic10\", \"Topic10\", \"Topic10\", \"Topic10\", \"Topic10\", \"Topic10\", \"Topic10\", \"Topic10\", \"Topic10\", \"Topic10\", \"Topic10\", \"Topic10\", \"Topic10\", \"Topic10\", \"Topic10\", \"Topic10\", \"Topic10\", \"Topic10\", \"Topic10\", \"Topic10\", \"Topic10\", \"Topic11\", \"Topic11\", \"Topic11\", \"Topic11\", \"Topic11\", \"Topic11\", \"Topic11\", \"Topic11\", \"Topic11\", \"Topic11\", \"Topic11\", \"Topic11\", \"Topic11\", \"Topic11\", \"Topic11\", \"Topic11\", \"Topic11\", \"Topic11\", \"Topic11\", \"Topic11\", \"Topic11\", \"Topic11\", \"Topic11\", \"Topic11\", \"Topic11\", \"Topic11\", \"Topic11\", \"Topic11\", \"Topic11\", \"Topic11\", \"Topic11\", \"Topic11\", \"Topic11\", \"Topic11\", \"Topic11\", \"Topic11\", \"Topic11\", \"Topic11\", \"Topic11\", \"Topic11\", \"Topic12\", \"Topic12\", \"Topic12\", \"Topic12\", \"Topic12\", \"Topic12\", \"Topic12\", \"Topic12\", \"Topic12\", \"Topic12\", \"Topic12\", \"Topic12\", \"Topic12\", \"Topic12\", \"Topic12\", \"Topic12\", \"Topic12\", \"Topic12\", \"Topic12\", \"Topic12\", \"Topic12\", \"Topic12\", \"Topic12\", \"Topic12\", \"Topic12\", \"Topic12\", \"Topic12\", \"Topic12\", \"Topic12\", \"Topic12\", \"Topic12\", \"Topic12\", \"Topic12\", \"Topic12\", \"Topic12\", \"Topic12\", \"Topic12\", \"Topic12\", \"Topic12\", \"Topic12\", \"Topic12\", \"Topic13\", \"Topic13\", \"Topic13\", \"Topic13\", \"Topic13\", \"Topic13\", \"Topic13\", \"Topic13\", \"Topic13\", \"Topic13\", \"Topic13\", \"Topic13\", \"Topic13\", \"Topic13\", \"Topic13\", \"Topic13\", \"Topic13\", \"Topic13\", \"Topic13\", \"Topic13\", \"Topic13\", \"Topic13\", \"Topic13\", \"Topic13\", \"Topic13\", \"Topic13\", \"Topic13\", \"Topic13\", \"Topic13\", \"Topic13\", \"Topic13\", \"Topic13\", \"Topic13\", \"Topic13\", \"Topic13\", \"Topic14\", \"Topic14\", \"Topic14\", \"Topic14\", \"Topic14\", \"Topic14\", \"Topic14\", \"Topic14\", \"Topic14\", \"Topic14\", \"Topic14\", \"Topic14\", \"Topic14\", \"Topic14\", \"Topic14\", \"Topic14\", \"Topic14\", \"Topic14\", \"Topic14\", \"Topic14\", \"Topic14\", \"Topic14\", \"Topic14\", \"Topic14\", \"Topic14\", \"Topic14\", \"Topic14\", \"Topic14\", \"Topic14\", \"Topic14\", \"Topic14\", \"Topic14\", \"Topic14\", \"Topic15\", \"Topic15\", \"Topic15\", \"Topic15\", \"Topic15\", \"Topic15\", \"Topic15\", \"Topic15\", \"Topic15\", \"Topic15\", \"Topic15\", \"Topic15\", \"Topic15\", \"Topic15\", \"Topic15\", \"Topic15\", \"Topic15\", \"Topic15\", \"Topic15\", \"Topic15\", \"Topic15\", \"Topic15\", \"Topic15\", \"Topic15\", \"Topic15\", \"Topic15\", \"Topic15\", \"Topic15\", \"Topic15\", \"Topic15\", \"Topic15\", \"Topic15\", \"Topic15\", \"Topic16\", \"Topic16\", \"Topic16\", \"Topic16\", \"Topic16\", \"Topic16\", \"Topic16\", \"Topic16\", \"Topic16\", \"Topic16\", \"Topic16\", \"Topic16\", \"Topic16\", \"Topic16\", \"Topic16\", \"Topic16\", \"Topic16\", \"Topic16\", \"Topic16\", \"Topic16\", \"Topic16\", \"Topic16\", \"Topic16\", \"Topic16\", \"Topic16\", \"Topic16\", \"Topic16\", \"Topic16\", \"Topic16\", \"Topic16\", \"Topic16\", \"Topic17\", \"Topic17\", \"Topic17\", \"Topic17\", \"Topic17\", \"Topic17\", \"Topic17\", \"Topic17\", \"Topic17\", \"Topic17\", \"Topic17\", \"Topic17\", \"Topic17\", \"Topic17\", \"Topic17\", \"Topic17\", \"Topic17\", \"Topic17\", \"Topic17\", \"Topic17\", \"Topic17\", \"Topic17\", \"Topic17\", \"Topic17\", \"Topic17\", \"Topic17\", \"Topic17\", \"Topic17\", \"Topic17\", \"Topic17\", \"Topic17\", \"Topic17\", \"Topic17\", \"Topic17\", \"Topic17\", \"Topic17\", \"Topic18\", \"Topic18\", \"Topic18\", \"Topic18\", \"Topic18\", \"Topic18\", \"Topic18\", \"Topic18\", \"Topic18\", \"Topic18\", \"Topic18\", \"Topic18\", \"Topic18\", \"Topic18\", \"Topic18\", \"Topic18\", \"Topic18\", \"Topic18\", \"Topic18\", \"Topic18\", \"Topic18\", \"Topic18\", \"Topic18\", \"Topic18\", \"Topic18\", \"Topic18\", \"Topic18\", \"Topic18\", \"Topic18\", \"Topic18\", \"Topic18\", \"Topic18\", \"Topic18\", \"Topic18\", \"Topic18\", \"Topic18\", \"Topic18\", \"Topic18\", \"Topic19\", \"Topic19\", \"Topic19\", \"Topic19\", \"Topic19\", \"Topic19\", \"Topic19\", \"Topic19\", \"Topic19\", \"Topic19\", \"Topic19\", \"Topic19\", \"Topic19\", \"Topic19\", \"Topic19\", \"Topic19\", \"Topic19\", \"Topic19\", \"Topic19\", \"Topic19\", \"Topic19\", \"Topic19\", \"Topic19\", \"Topic19\", \"Topic19\", \"Topic19\", \"Topic19\", \"Topic19\", \"Topic19\", \"Topic19\", \"Topic19\", \"Topic19\", \"Topic19\", \"Topic20\", \"Topic20\", \"Topic20\", \"Topic20\", \"Topic20\", \"Topic20\", \"Topic20\", \"Topic20\", \"Topic20\", \"Topic20\", \"Topic20\", \"Topic20\", \"Topic20\", \"Topic20\", \"Topic20\", \"Topic20\", \"Topic20\", \"Topic20\", \"Topic20\", \"Topic20\", \"Topic20\", \"Topic20\", \"Topic20\", \"Topic20\", \"Topic20\", \"Topic20\", \"Topic20\", \"Topic20\", \"Topic20\", \"Topic20\", \"Topic20\", \"Topic20\", \"Topic20\", \"Topic20\", \"Topic20\"], \"logprob\": [30.0, 29.0, 28.0, 27.0, 26.0, 25.0, 24.0, 23.0, 22.0, 21.0, 20.0, 19.0, 18.0, 17.0, 16.0, 15.0, 14.0, 13.0, 12.0, 11.0, 10.0, 9.0, 8.0, 7.0, 6.0, 5.0, 4.0, 3.0, 2.0, 1.0, -4.0209, -4.6541, -5.0024, -5.0721, -5.1981, -5.2662, -5.2757, -5.2775, -5.0697, -5.3273, -5.3608, -5.3771, -5.3913, -5.3925, -5.6631, -5.6809, -5.7382, -5.8061, -5.8427, -5.8722, -5.9615, -5.9636, -5.9933, -6.0973, -6.1677, -6.1709, -6.225, -6.2729, -6.3438, -6.3503, -4.1928, -4.179, -4.9459, -5.2779, -5.0527, -3.7643, -5.3793, -4.7808, -5.317, -4.3329, -5.1004, -4.5843, -4.7962, -4.6579, -4.6385, -4.4631, -4.2221, -4.2543, -4.3384, -4.989, -4.6653, -4.8507, -4.8169, -4.8295, -4.9632, -4.928, -4.5966, -4.9162, -4.9924, -4.9521, -4.9631, -5.0454, -4.0704, -4.0844, -4.2055, -4.5786, -4.7665, -4.7813, -4.8422, -5.0004, -5.1912, -5.2464, -5.2501, -5.2595, -5.2667, -5.2709, -5.2725, -5.283, -5.3133, -5.3174, -5.3677, -5.3864, -5.3957, -5.4447, -5.4484, -5.5768, -5.6659, -5.7702, -5.8301, -5.8553, -5.9706, -6.007, -5.7527, -5.6351, -4.7584, -5.5822, -4.2962, -4.9634, -4.6636, -5.2362, -5.0228, -4.4454, -3.8309, -4.4188, -4.8286, -3.9505, -4.6294, -4.4944, -4.795, -4.9081, -5.1707, -4.9489, -5.1822, -5.0434, -5.106, -4.5897, -4.595, -5.1141, -5.027, -4.9654, -4.8754, -5.0327, -2.8823, -2.9938, -3.721, -4.0144, -4.4378, -4.4767, -4.5086, -4.8247, -5.007, -5.1216, -5.3288, -5.379, -5.4309, -5.4583, -5.7135, -5.7351, -5.8126, -5.8591, -5.9381, -5.962, -6.0002, -6.0744, -6.0856, -6.1316, -6.1708, -6.2353, -6.2584, -6.2694, -6.3644, -6.3713, -3.5564, -2.5822, -2.0409, -5.03, -4.7954, -4.6032, -4.8757, -2.7723, -5.7744, -2.6042, -4.4912, -4.951, -4.3398, -4.3173, -4.9901, -4.5713, -5.0429, -4.3576, -4.4947, -4.4691, -4.9633, -4.7699, -4.7915, -4.886, -4.9073, -3.7765, -4.2618, -4.3498, -4.5774, -4.6421, -4.6447, -4.6765, -4.8238, -4.8243, -4.8263, -4.8768, -4.8768, -4.8891, -4.935, -4.9421, -5.0076, -5.0805, -5.2279, -5.2871, -5.4152, -5.5323, -5.5619, -5.5693, -5.6276, -5.6579, -5.6803, -5.7518, -5.7633, -5.8044, -5.8098, -4.0335, -3.7458, -5.089, -4.4993, -5.0658, -4.4183, -4.8418, -4.8916, -3.4352, -4.4963, -4.4586, -4.5699, -4.2675, -3.5867, -4.1347, -4.4395, -4.5127, -4.5794, -4.5295, -4.6181, -4.3641, -4.5013, -4.4694, -4.7734, -4.7192, -4.023, -4.1735, -4.311, -4.5467, -4.5562, -4.6824, -4.7727, -4.8336, -4.855, -4.9632, -5.0082, -5.0182, -5.0785, -5.1015, -3.5739, -5.1326, -5.157, -5.1662, -5.1851, -5.324, -5.3489, -5.3557, -5.3861, -5.4106, -5.4414, -5.4749, -5.4809, -5.5296, -5.5352, -5.5487, -5.1124, -5.4502, -4.7748, -4.7295, -4.0868, -4.047, -4.9478, -5.3032, -5.1604, -5.1258, -3.4649, -5.1638, -4.5125, -4.1125, -4.7416, -5.0847, -5.097, -5.1553, -0.2678, -3.3595, -3.7291, -4.2825, -4.5036, -5.1658, -5.1681, -5.2875, -5.515, -5.7208, -5.8903, -5.9157, -5.9445, -6.0177, -6.0964, -6.1159, -6.3279, -6.4339, -6.4539, -6.4899, -6.7201, -6.9781, -7.1109, -7.6929, -7.7077, -7.8505, -7.966, -13.0733, -13.0911, -13.0912, -8.5212, -9.3178, -3.8656, -4.0259, -4.3733, -4.4171, -4.5359, -4.6505, -4.7553, -4.7899, -4.8038, -4.8167, -4.8853, -4.9475, -4.954, -4.9588, -4.9621, -4.9821, -5.0126, -5.0423, -5.1132, -5.1596, -5.1628, -5.1763, -5.2214, -5.4051, -5.4747, -5.4882, -5.4999, -5.5203, -5.5295, -5.5375, -4.9661, -4.1553, -4.227, -4.2888, -3.9621, -4.7068, -4.4058, -4.4835, -3.9483, -4.3942, -3.9589, -4.6418, -4.4077, -4.771, -4.5181, -4.6196, -4.9039, -4.9371, -4.837, -4.8803, -2.8002, -3.5793, -3.6069, -3.6832, -3.8071, -3.9597, -4.0594, -4.0605, -4.2432, -4.2519, -4.2864, -4.3304, -4.4305, -4.5712, -4.6976, -4.7139, -4.7636, -4.7895, -4.8328, -4.8614, -4.8917, -4.9368, -4.9469, -4.9517, -4.991, -4.9991, -5.0994, -5.1341, -5.1478, -5.1528, -3.8904, -4.6197, -4.1215, -4.9354, -4.5448, -4.6241, -4.8224, -4.7191, -4.6067, -2.5602, -2.6255, -2.9466, -2.999, -3.0227, -3.4596, -3.6722, -3.9946, -4.0162, -4.0827, -4.0988, -4.3024, -4.3223, -4.4656, -4.4721, -4.5019, -4.8299, -4.8511, -4.9276, -4.9696, -4.9771, -5.1013, -5.1199, -5.1263, -5.1533, -5.3107, -5.3588, -5.3613, -5.3873, -5.405, -4.4883, -4.8006, -4.3815, -4.8521, -3.6775, -4.3593, -4.1301, -4.7738, -4.7817, -4.742, -4.9408, -2.2475, -3.1554, -3.4803, -3.5595, -3.5656, -3.8056, -4.0169, -4.0673, -4.0823, -4.126, -4.2008, -4.3404, -4.3797, -4.633, -4.7008, -4.7548, -4.8566, -4.8862, -5.0193, -5.0238, -5.1606, -5.2923, -5.3429, -5.3718, -5.4956, -5.5366, -5.5509, -5.6049, -5.634, -5.7581, -4.286, -4.1724, -4.7918, -3.4558, -4.3672, -3.8508, -4.042, -4.0423, -4.3617, -4.3586, -4.4861, -4.7226, -4.7284, -4.8532, -1.8822, -2.4023, -3.3339, -3.7224, -3.7544, -3.8038, -4.0969, -4.1569, -4.243, -4.3949, -4.5892, -4.6036, -4.6078, -4.7811, -4.8176, -4.9133, -4.9163, -4.9584, -4.972, -4.9971, -5.0554, -5.0735, -5.0797, -5.1989, -5.2523, -5.3158, -5.3175, -5.3703, -5.4287, -5.4497, -3.9986, -4.1976, -4.806, -4.2411, -4.2345, -4.494, -4.9512, -4.4694, -4.8956, -4.8751, -3.1297, -3.1585, -3.3318, -3.4356, -3.6798, -3.7109, -3.8166, -3.8627, -3.9752, -4.027, -4.0994, -4.1615, -4.1617, -4.3235, -4.4032, -4.4217, -4.4905, -4.646, -4.8223, -4.8227, -4.9072, -4.9949, -5.0165, -5.1286, -5.1293, -5.1438, -5.1688, -5.2034, -5.3399, -5.3546, -2.5479, -4.9046, -3.7865, -3.8571, -4.4546, -3.7695, -4.5762, -4.3305, -4.3155, -4.5344, -4.5987, -2.2426, -3.5324, -3.5378, -3.7225, -3.7487, -3.7558, -3.9097, -3.9598, -3.9835, -4.0242, -4.1049, -4.177, -4.2379, -4.3185, -4.3415, -4.3918, -4.4999, -4.5177, -4.6052, -4.6413, -4.6671, -4.706, -4.7527, -4.7888, -4.8925, -4.9722, -5.021, -5.0278, -5.0283, -5.0523, -3.647, -4.57, -4.5115, -4.3871, -4.8793, -2.8231, -3.2411, -3.3186, -3.3246, -3.4375, -3.449, -3.5654, -3.776, -3.788, -3.7895, -3.9373, -4.0165, -4.1406, -4.1547, -4.3393, -4.5551, -4.5555, -4.5982, -4.7497, -4.7553, -4.859, -4.9476, -4.9831, -5.0165, -5.0672, -5.0769, -5.0795, -5.0867, -5.1032, -5.1191, -2.7326, -4.1361, -4.9664, -1.3887, -2.8646, -2.8952, -3.4523, -3.7802, -3.8882, -3.9733, -4.0655, -4.5301, -4.5894, -4.6252, -4.7214, -5.1611, -5.3422, -5.5499, -5.8273, -5.8567, -6.3639, -6.7374, -8.9286, -4.0461, -4.9425, -3.1987, -4.5391, -6.757, -5.0207, -6.5707, -5.1974, -11.8093, -11.8094, -5.4178, -6.2546, -6.7157, -2.1836, -2.8192, -2.917, -2.9984, -3.1518, -3.201, -3.2907, -3.4125, -4.086, -4.2144, -4.3242, -4.3626, -4.4867, -4.8063, -5.1, -5.2597, -5.3708, -5.9092, -3.2108, -3.5066, -4.6638, -11.734, -11.7341, -11.7341, -11.7342, -11.7343, -11.7344, -11.7344, -11.7344, -11.7344, -6.4817, -2.8025, -2.9961, -3.1899, -3.2018, -3.4973, -3.5307, -3.6321, -3.7634, -3.7832, -3.8703, -4.0498, -4.0615, -4.2677, -4.7373, -4.8817, -5.3427, -3.5246, -11.3891, -11.3891, -11.3891, -11.3891, -11.3891, -11.3891, -11.3891, -11.3891, -11.3891, -11.3891, -11.3892, -11.3891, -11.3892, -11.3891, -11.3891, -11.3891, -11.3891, -11.3891, -11.3891, -2.3815, -2.8806, -3.0968, -3.3152, -3.8134, -3.8495, -4.0275, -4.4156, -4.5032, -4.9236, -4.9781, -5.0141, -5.0925, -5.4972, -6.6621, -11.2268, -11.2268, -11.2268, -11.2268, -11.2268, -11.2268, -11.2268, -11.2268, -11.2268, -11.2269, -11.2269, -11.2269, -11.2268, -11.2269, -11.2269, -11.2268, -11.2268, -11.2268, -11.2268, -11.2268, -11.2268, -11.2268, -11.2268, -1.9607, -3.5564, -3.6382, -3.673, -3.7115, -3.8203, -3.9024, -4.2715, -4.6658, -4.9977, -11.1834, -11.1834, -11.1834, -11.1834, -11.1834, -11.1834, -11.1834, -11.1835, -11.1834, -11.1835, -11.1835, -11.1835, -11.1835, -11.1835, -11.1834, -11.1835, -11.1835, -11.1835, -11.1835, -11.1835, -11.1834, -11.1835, -11.1835, -2.6285, -3.4928, -3.867, -3.9364, -4.2032, -4.5494, -4.6029, -4.646, -4.8374, -4.9953, -5.0242, -5.1784, -5.3844, -11.0491, -11.0492, -11.0492, -11.0492, -11.0492, -11.0492, -11.0492, -11.0492, -11.0492, -11.0492, -11.0492, -11.0492, -11.0492, -11.0492, -11.0492, -11.0492, -11.0492, -11.0492, -11.0492, -11.0492, -11.0492, -11.0492], \"loglift\": [30.0, 29.0, 28.0, 27.0, 26.0, 25.0, 24.0, 23.0, 22.0, 21.0, 20.0, 19.0, 18.0, 17.0, 16.0, 15.0, 14.0, 13.0, 12.0, 11.0, 10.0, 9.0, 8.0, 7.0, 6.0, 5.0, 4.0, 3.0, 2.0, 1.0, 1.0666, 1.0664, 1.0663, 1.0663, 1.0662, 1.0662, 1.0662, 1.0662, 1.0662, 1.0662, 1.0661, 1.0661, 1.0661, 1.0661, 1.0659, 1.0659, 1.0659, 1.0658, 1.0658, 1.0658, 1.0657, 1.0657, 1.0656, 1.0655, 1.0654, 1.0654, 1.0654, 1.0653, 1.0652, 1.0652, 1.0597, 1.0563, 1.063, 1.0635, 1.0609, 1.0214, 1.0538, 1.0341, 1.0499, 0.9925, 1.0264, 0.996, 0.9886, 0.9349, 0.9287, 0.8771, 0.7861, 0.7873, 0.7648, 0.9408, 0.7854, 0.8462, 0.7511, 0.7185, 0.7675, 0.7237, 0.3822, 0.708, 0.7315, 0.4153, -0.3959, 0.6964, 1.8585, 1.8585, 1.8584, 1.8582, 1.8581, 1.8581, 1.8581, 1.8579, 1.8577, 1.8577, 1.8577, 1.8577, 1.8577, 1.8577, 1.8577, 1.8576, 1.8576, 1.8576, 1.8575, 1.8575, 1.8575, 1.8574, 1.8574, 1.8573, 1.8571, 1.8569, 1.8568, 1.8567, 1.8565, 1.8564, 1.8558, 1.854, 1.8421, 1.8512, 1.8088, 1.7676, 1.7009, 1.7883, 1.7377, 1.5032, 1.1479, 1.4054, 1.5866, 1.1501, 1.4469, 1.2911, 1.3855, 1.4729, 1.718, 1.3768, 1.7238, 1.4971, 1.5635, 0.5135, 0.4466, 1.5295, 1.2115, 0.6588, -0.3082, 0.3347, 2.3878, 2.3878, 2.3875, 2.3874, 2.3871, 2.3871, 2.387, 2.3867, 2.3865, 2.3863, 2.3859, 2.3858, 2.3857, 2.3856, 2.3849, 2.3849, 2.3846, 2.3844, 2.3842, 2.3841, 2.3839, 2.3836, 2.3836, 2.3833, 2.3832, 2.3828, 2.3827, 2.3827, 2.3821, 2.3821, 2.3666, 2.3368, 2.2851, 2.353, 2.3396, 2.2959, 2.2828, 2.0983, 2.3542, 1.963, 2.1486, 2.1864, 1.9412, 1.7802, 1.8806, 1.5264, 1.8674, 1.2324, 1.2777, 0.9815, 1.657, 1.1786, 0.9392, 0.4594, 0.1009, 2.3953, 2.395, 2.395, 2.3948, 2.3947, 2.3947, 2.3947, 2.3945, 2.3945, 2.3945, 2.3944, 2.3944, 2.3944, 2.3943, 2.3943, 2.3942, 2.3941, 2.3939, 2.3938, 2.3935, 2.3932, 2.3931, 2.3931, 2.393, 2.3929, 2.3928, 2.3926, 2.3925, 2.3924, 2.3924, 2.3906, 2.3873, 2.3868, 2.3598, 2.3534, 2.2813, 2.3172, 2.3023, 2.0825, 2.2294, 2.213, 2.2073, 2.0574, 1.7588, 1.8736, 1.9486, 1.9741, 1.9584, 1.7248, 1.8689, 1.3735, 1.0667, 0.898, 1.9104, 0.8709, 2.5745, 2.5744, 2.5743, 2.574, 2.574, 2.5739, 2.5737, 2.5736, 2.5736, 2.5734, 2.5734, 2.5733, 2.5732, 2.5732, 2.5732, 2.5731, 2.5731, 2.5731, 2.573, 2.5727, 2.5726, 2.5726, 2.5725, 2.5725, 2.5724, 2.5723, 2.5723, 2.5721, 2.5721, 2.5721, 2.5687, 2.5687, 2.5264, 2.4857, 2.4005, 2.3564, 2.4624, 2.5414, 2.4841, 2.4571, 1.6357, 2.4692, 2.0709, 1.6578, 1.9442, 2.3242, 2.2253, 2.3457, 2.9202, 2.9198, 2.9196, 2.9191, 2.9188, 2.9175, 2.9175, 2.9171, 2.9163, 2.9154, 2.9145, 2.9143, 2.9142, 2.9137, 2.9132, 2.913, 2.9113, 2.9103, 2.9101, 2.9098, 2.9071, 2.9032, 2.9008, 2.8857, 2.8852, 2.88, 2.8751, 0.7655, 0.7497, 0.7496, -2.2401, -2.9764, 2.971, 2.9709, 2.9705, 2.9704, 2.9702, 2.97, 2.9698, 2.9697, 2.9697, 2.9697, 2.9695, 2.9694, 2.9693, 2.9693, 2.9693, 2.9693, 2.9692, 2.9691, 2.9689, 2.9688, 2.9687, 2.9687, 2.9686, 2.9679, 2.9676, 2.9675, 2.9675, 2.9674, 2.9674, 2.9673, 2.9649, 2.9306, 2.9081, 2.8911, 2.8207, 2.8793, 2.8283, 2.7021, 2.4059, 2.6077, 2.386, 2.4985, 1.8466, 2.3421, 1.0299, 1.3728, 2.6475, 2.639, 0.9872, 0.8921, 3.8434, 3.8426, 3.8425, 3.8424, 3.8422, 3.8419, 3.8416, 3.8416, 3.8411, 3.8411, 3.841, 3.8409, 3.8405, 3.84, 3.8394, 3.8393, 3.8391, 3.839, 3.8387, 3.8386, 3.8384, 3.8382, 3.8381, 3.8381, 3.8378, 3.8378, 3.8371, 3.8369, 3.8368, 3.8367, 3.8017, 3.6645, 3.3577, 3.5902, 2.8638, 3.0091, 3.3587, 2.5395, 1.7743, 3.8792, 3.8791, 3.8789, 3.8788, 3.8788, 3.8783, 3.878, 3.8773, 3.8773, 3.8771, 3.877, 3.8764, 3.8764, 3.8758, 3.8758, 3.8757, 3.8741, 3.874, 3.8736, 3.8733, 3.8732, 3.8724, 3.8723, 3.8722, 3.872, 3.8707, 3.8702, 3.8702, 3.87, 3.8698, 3.7248, 3.7543, 3.1378, 3.4079, 1.8705, 2.5575, 1.8781, 3.1173, 2.7791, 1.5933, 2.5955, 3.9906, 3.9899, 3.9895, 3.9893, 3.9893, 3.9888, 3.9883, 3.9882, 3.9881, 3.988, 3.9877, 3.9873, 3.9871, 3.9859, 3.9856, 3.9853, 3.9847, 3.9845, 3.9835, 3.9835, 3.9824, 3.9812, 3.9807, 3.9804, 3.9789, 3.9784, 3.9783, 3.9776, 3.9772, 3.9753, 3.9097, 3.7419, 3.8067, 3.2301, 3.2568, 2.8331, 2.5783, 2.3612, 2.5486, 0.9869, 1.0316, 1.6317, 1.5965, 2.2842, 4.0554, 4.0551, 4.0542, 4.0535, 4.0534, 4.0533, 4.0525, 4.0523, 4.052, 4.0514, 4.0505, 4.0504, 4.0504, 4.0494, 4.0491, 4.0485, 4.0485, 4.0481, 4.048, 4.0478, 4.0474, 4.0472, 4.0472, 4.0461, 4.0456, 4.0449, 4.0449, 4.0443, 4.0435, 4.0434, 3.7253, 3.6333, 3.6915, 3.0825, 2.9992, 2.6202, 3.4249, 2.1063, 3.1544, 1.8245, 4.1296, 4.1295, 4.1293, 4.1291, 4.1286, 4.1285, 4.1283, 4.1281, 4.1278, 4.1277, 4.1274, 4.1272, 4.1272, 4.1265, 4.1262, 4.1261, 4.1258, 4.1249, 4.1238, 4.1238, 4.1231, 4.1224, 4.1222, 4.1212, 4.1212, 4.1211, 4.1208, 4.1205, 4.1189, 4.1188, 4.0615, 4.0732, 3.9136, 3.9094, 3.7233, 3.2073, 3.4798, 3.1133, 2.9974, 2.9447, 3.0382, 4.3914, 4.3895, 4.3895, 4.389, 4.3889, 4.3889, 4.3884, 4.3882, 4.3881, 4.3879, 4.3875, 4.3872, 4.3869, 4.3865, 4.3863, 4.386, 4.3854, 4.3852, 4.3846, 4.3843, 4.3841, 4.3838, 4.3834, 4.3831, 4.3821, 4.3813, 4.3808, 4.3807, 4.3807, 4.3804, 3.7118, 4.1154, 3.8024, 2.627, 3.7994, 4.469, 4.4683, 4.4681, 4.4681, 4.4678, 4.4678, 4.4675, 4.4668, 4.4668, 4.4668, 4.4662, 4.4659, 4.4653, 4.4652, 4.4642, 4.4627, 4.4627, 4.4624, 4.4611, 4.461, 4.46, 4.459, 4.4586, 4.4582, 4.4576, 4.4575, 4.4575, 4.4574, 4.4572, 4.4569, 4.2814, 2.5896, 2.9479, 5.0839, 5.0818, 5.0818, 5.0797, 5.0779, 5.0772, 5.0765, 5.0758, 5.0706, 5.0698, 5.0693, 5.0678, 5.0586, 5.0536, 5.0466, 5.0348, 5.0333, 5.001, 4.9653, 4.3275, 4.2678, 4.2261, 3.1422, 2.6547, 2.5049, 2.4933, 2.4678, 2.1957, 2.0315, 2.0314, 1.7181, 1.4003, 0.8304, 5.4387, 5.437, 5.4366, 5.4363, 5.4356, 5.4353, 5.4348, 5.4341, 5.4278, 5.4261, 5.4244, 5.4238, 5.4216, 5.4145, 5.4057, 5.3998, 5.3951, 5.3638, 5.1462, 3.9376, 3.4255, 2.1068, 2.1067, 2.1067, 2.1067, 2.1066, 2.1065, 2.1065, 2.1065, 2.1064, 1.2983, 5.8212, 5.8201, 5.8187, 5.8186, 5.816, 5.8156, 5.8145, 5.8128, 5.8125, 5.8113, 5.8083, 5.8081, 5.8039, 5.7907, 5.7852, 5.7618, 5.7374, 2.4518, 2.4518, 2.4518, 2.4517, 2.4517, 2.4517, 2.4517, 2.4517, 2.4517, 2.4517, 2.4517, 2.4517, 2.4517, 2.4517, 2.4517, 2.4517, 2.4517, 2.4517, 2.4516, 6.2073, 6.204, 6.2019, 6.1994, 6.1912, 6.1904, 6.1862, 6.174, 6.1705, 6.1493, 6.1459, 6.1436, 6.1382, 6.1031, 5.8975, 2.6141, 2.6141, 2.6141, 2.6141, 2.6141, 2.6141, 2.614, 2.614, 2.614, 2.614, 2.614, 2.614, 2.614, 2.614, 2.614, 2.614, 2.614, 2.614, 2.614, 2.614, 2.614, 2.614, 2.614, 6.4401, 6.4235, 6.4218, 6.421, 6.4201, 6.4173, 6.4151, 6.4023, 6.3826, 6.3593, 2.6575, 2.6575, 2.6575, 2.6575, 2.6575, 2.6574, 2.6574, 2.6574, 2.6574, 2.6574, 2.6574, 2.6574, 2.6574, 2.6574, 2.6574, 2.6574, 2.6574, 2.6574, 2.6574, 2.6574, 2.6574, 2.6574, 2.6574, 6.9028, 6.8848, 6.8709, 6.8678, 6.8534, 6.8286, 6.824, 6.8201, 6.801, 6.7826, 6.7789, 6.7578, 6.7248, 2.7917, 2.7917, 2.7917, 2.7917, 2.7917, 2.7917, 2.7917, 2.7917, 2.7917, 2.7917, 2.7917, 2.7917, 2.7917, 2.7917, 2.7917, 2.7917, 2.7917, 2.7917, 2.7917, 2.7917, 2.7917, 2.7916]}, \"token.table\": {\"Topic\": [9, 2, 15, 6, 1, 4, 16, 10, 1, 2, 18, 10, 1, 2, 4, 5, 7, 16, 4, 6, 4, 15, 2, 12, 3, 17, 3, 5, 2, 8, 1, 2, 3, 14, 10, 9, 9, 5, 10, 12, 8, 11, 17, 4, 7, 10, 9, 8, 14, 6, 1, 1, 9, 2, 9, 1, 11, 3, 9, 6, 1, 4, 10, 3, 5, 5, 12, 1, 7, 7, 2, 12, 17, 8, 3, 3, 12, 1, 3, 12, 17, 9, 7, 6, 11, 3, 4, 1, 5, 13, 1, 2, 4, 5, 13, 10, 5, 7, 6, 2, 14, 1, 8, 3, 4, 10, 2, 8, 7, 5, 2, 2, 15, 10, 10, 3, 8, 17, 4, 3, 11, 1, 2, 7, 8, 10, 2, 7, 18, 3, 4, 16, 12, 5, 9, 12, 3, 7, 1, 3, 4, 5, 7, 3, 6, 18, 5, 3, 4, 12, 11, 3, 1, 15, 13, 14, 5, 1, 1, 5, 12, 3, 3, 2, 4, 15, 13, 5, 10, 10, 16, 3, 9, 6, 1, 5, 3, 10, 5, 19, 5, 9, 19, 5, 12, 1, 16, 7, 14, 2, 10, 12, 12, 7, 10, 11, 10, 18, 7, 4, 15, 5, 1, 2, 4, 6, 4, 11, 6, 2, 16, 4, 4, 10, 3, 8, 20, 7, 9, 1, 4, 15, 5, 16, 13, 2, 14, 11, 4, 11, 19, 10, 2, 13, 7, 3, 4, 12, 10, 1, 6, 13, 11, 15, 4, 13, 15, 13, 8, 11, 1, 2, 5, 6, 2, 20, 2, 4, 14, 2, 4, 12, 2, 10, 17, 12, 13, 7, 1, 2, 5, 7, 9, 7, 9, 12, 1, 4, 11, 4, 7, 12, 14, 5, 10, 13, 1, 5, 4, 19, 1, 7, 9, 1, 5, 5, 1, 2, 8, 9, 14, 18, 13, 3, 1, 8, 13, 1, 2, 3, 4, 7, 9, 15, 5, 14, 1, 11, 13, 4, 12, 17, 9, 4, 11, 12, 6, 1, 4, 13, 14, 1, 8, 1, 2, 17, 12, 1, 7, 2, 1, 2, 9, 6, 5, 10, 6, 1, 2, 8, 2, 5, 11, 13, 1, 2, 4, 5, 7, 1, 5, 1, 9, 14, 1, 4, 19, 15, 5, 16, 1, 1, 3, 4, 20, 1, 3, 4, 7, 11, 11, 1, 9, 14, 1, 3, 1, 2, 4, 9, 2, 5, 6, 14, 7, 9, 4, 1, 4, 13, 14, 15, 7, 2, 4, 5, 7, 1, 5, 7, 2, 20, 4, 7, 10, 8, 8, 4, 7, 4, 11, 14, 18, 3, 7, 4, 12, 3, 9, 20, 8, 17, 5, 2, 5, 10, 12, 19, 2, 5, 15, 10, 3, 7, 5, 16, 1, 2, 3, 7, 3, 5, 12, 1, 9, 13, 2, 5, 14, 15, 16, 1, 2, 1, 2, 7, 5, 10, 14, 2, 5, 11, 1, 11, 1, 3, 1, 1, 2, 5, 18, 1, 1, 3, 4, 1, 9, 1, 2, 1, 3, 7, 11, 13, 16, 13, 1, 3, 4, 4, 19, 3, 4, 1, 2, 8, 18, 1, 2, 5, 8, 4, 1, 2, 4, 5, 13, 2, 7, 2, 1, 1, 2, 16, 16, 5, 8, 5, 4, 2, 3, 4, 10, 14, 4, 11, 5, 1, 11, 13, 4, 14, 17, 12, 1, 15, 13, 18, 6, 14, 1, 8, 10, 4, 1, 19, 13, 15, 1, 2, 5, 8, 8, 7, 1, 2, 3, 4, 10, 1, 2, 3, 4, 7, 11, 3, 11, 15, 3, 13, 1, 4, 5, 7, 12, 9, 13, 12, 10, 12, 5, 9, 11, 1, 12, 7, 3, 6, 13, 1, 2, 3, 9, 3, 13, 4, 11, 1, 12, 8, 13, 1, 2, 6, 7, 10, 12, 7, 9, 16, 4, 7, 1, 2, 5, 8, 8, 8, 10, 12, 3, 10, 6, 1, 9, 14, 12, 9, 16, 20, 13, 9, 7, 15, 19, 1, 2, 7, 9, 5, 14, 4, 20, 1, 2, 15, 18, 7, 1, 2, 3, 4, 1, 2, 3, 5, 11, 13, 6, 12, 1, 16, 3, 17, 3, 10, 1, 10, 1, 1, 2, 4, 8, 12, 9, 4, 13, 14, 5, 18, 1, 10, 2, 18, 14, 5, 10, 17, 5, 15, 2, 1, 12, 14, 1, 2, 3, 4, 11, 12, 7, 3, 5, 7, 1, 2, 1, 1, 2, 4, 8, 12, 1, 2, 2, 12, 8, 2, 2, 8, 1, 1, 12, 3, 8, 1, 7, 8, 7, 3, 12, 10, 9, 11, 11, 1, 2, 5, 10, 20, 5, 8, 11, 13, 8, 15, 17, 10, 2, 1, 4, 9, 14, 8, 1, 6, 3, 13, 13, 1, 2, 5, 8, 14, 14, 4, 14, 1, 12, 16, 9, 4, 20, 4, 7, 10, 10, 2, 10, 12, 10, 10, 1, 2, 5, 11, 1, 3, 2, 11, 8, 18, 5, 10, 1, 7, 1, 2, 4, 6, 6, 13, 7, 6, 7, 1, 3, 7, 14, 15, 13, 4, 13, 5, 8, 14, 8, 1, 2, 4, 7, 8, 16, 13, 13, 11, 2, 17, 17, 4, 11, 6, 9, 11, 9, 13, 1, 9, 2, 5, 2, 17, 19, 20, 1, 11, 2, 5, 7, 16, 20, 17, 5, 10, 11, 1, 2, 4, 5, 1, 2, 7, 2, 4, 10, 13, 1, 2, 5, 2, 10, 7, 10, 6, 9, 9, 7, 3, 7, 10, 13, 20, 16, 1, 2, 8, 10, 10, 3, 18, 2, 13, 1, 2, 1, 2, 11, 1, 2, 11, 1, 2, 8, 10, 1, 15, 6, 7, 12, 14, 11, 2, 5, 16, 5, 16, 5, 15, 2, 2, 1, 2, 4, 8, 8, 4, 14, 12, 2, 7, 8, 9, 3, 4, 8, 18, 20, 3, 15, 1, 2, 3, 4, 10, 4, 10, 15, 1, 2, 15, 14, 1, 13, 10, 15, 4, 3, 4, 2, 4, 5, 8, 8, 8, 15, 1, 2, 3, 5, 10, 1, 2, 8, 5, 1, 11, 1, 2, 15, 9, 11, 15, 9, 10, 11, 5, 8, 2, 1, 3, 4, 8, 6, 1, 2, 5, 8, 1, 2, 3, 1, 5, 7, 8, 9, 1, 8, 9], \"Freq\": [0.9905799494933627, 0.9991368274605874, 0.8431213775268828, 0.9950162621713876, 0.1706847754090036, 0.8282631731002645, 0.9544458402353164, 0.9957562427289431, 0.13076208147961982, 0.8689596461116597, 0.9721330110517207, 0.988974458907546, 0.5212653951701405, 0.21787199696184273, 0.22368413102713577, 0.00016606097329408743, 0.0370315970445815, 0.9932492563638384, 0.9969973550658987, 0.9908075205650854, 0.9108296292730981, 0.08767895638529256, 0.992228669263711, 0.006553690021556876, 0.9982911501479571, 0.9642563980089026, 0.9974482897853492, 0.9963455870323236, 0.9985220120654255, 0.9989507466342147, 0.18268343718368435, 0.06870837239209367, 0.7485170921773969, 0.9968962962304805, 0.991116367171702, 0.997165379044766, 0.9987375985156118, 0.9146576007946691, 0.08430023970457778, 0.9973848470983441, 0.9987113133699856, 0.9940608376996971, 0.9910464071011325, 0.8327360607277732, 0.13093719103287543, 0.03487579387324252, 0.9973757673356479, 0.8347962079026531, 0.1595933926872719, 0.9999852897695007, 0.9994680882904772, 0.9992897356126605, 0.9983659785955334, 0.9996603535990716, 0.9977006133398365, 0.9992600646586938, 0.9983858872395279, 0.9969999744668628, 0.9916977437190474, 0.9573303524544304, 0.195550727620705, 0.7129814139799155, 0.09128584851320522, 0.2199890242633404, 0.7776356206518079, 0.9976449527370846, 0.9947025332871443, 0.2758015475358446, 0.7226885470190582, 0.9949269536325174, 0.0661286856299818, 0.9332770154561778, 0.9955417375775094, 0.9970023172735236, 0.9940932238954941, 0.9984636497114128, 0.9921763225269193, 0.2121907697650987, 0.7871210677319863, 0.9959477059359783, 0.9774715892469645, 0.992096017365302, 0.9969134032925142, 0.9964414706838338, 0.9992176069374397, 0.004777516587357765, 0.9946789534878866, 0.27094609058795843, 0.7049290062483248, 0.02228560918255935, 0.17781492186627793, 0.6623352782229669, 0.08468983944674717, 0.07456754787940686, 0.9872413927174204, 0.9904647910638763, 0.37642361477129627, 0.6228099808034174, 0.9925877103687154, 0.9980785972655809, 0.9983961549293184, 0.9985619081872611, 0.9995867717873845, 0.06999659673360073, 0.6157222756920278, 0.31405552693748295, 0.9974983992710427, 0.9989650213369775, 0.9971223017947327, 0.9979029832646149, 0.9996424449740287, 0.9989063512676405, 0.983223006068444, 0.9985939574811741, 0.9966616078269901, 0.9943294031645302, 0.9946945085761892, 0.9926726007188008, 0.9991286949911368, 0.9988620938971952, 0.9907746547746225, 0.8712092641092138, 0.12857231690997242, 0.9975808430890987, 0.9592552030698293, 0.03904932685063022, 0.28118794434792993, 0.7165757291447247, 0.934872624020507, 0.3433162775517257, 0.6561155526544092, 0.9953337210632933, 0.9960199633729399, 0.7951731019810431, 0.20335114600926144, 0.9938633159933855, 0.08703659184802014, 0.911593777776632, 0.06279696212083227, 0.0066602838613003925, 0.05233080176736023, 0.3453832916645775, 0.5328227089040314, 0.9979115886333689, 0.9982363341164604, 0.9541068105422664, 0.9972918682338645, 0.9931608575010917, 0.6019534178202246, 0.39687411547319634, 0.9911311157316777, 0.9960573962815195, 0.920014241443164, 0.07177416067996316, 0.17149725531287147, 0.8281852379681884, 0.9991085605624905, 0.9988549979521011, 0.4601322298798988, 0.21728466410995223, 0.3218601709008383, 0.9987233527584048, 0.9957747134981587, 0.7651224808867078, 0.19858140725303866, 0.034070339479688, 0.9925198298147907, 0.9978944094592267, 0.9957536875901202, 0.992456701254744, 0.9787250868513963, 0.9971340665350619, 0.9907178787193772, 0.9966555793676128, 0.994243140384543, 0.005603342813016093, 0.9666608097594206, 0.031521548144328934, 0.9993172221253367, 0.9281895696807897, 0.37145784196502885, 0.6230905736187581, 0.9741012305351143, 0.1975113707963361, 0.8010183371184741, 0.9825161366339871, 0.016684236282463932, 0.9961859580427873, 0.9939608660376468, 0.6343788309082425, 0.0026487633858381736, 0.3615562021669107, 0.9967669691504643, 0.9226126172592796, 0.01830984245939033, 0.05798116778806939, 0.9930935939543949, 0.9234328872290211, 0.9967355831274278, 0.9980959744199126, 0.9606873160020607, 0.9989440932456266, 0.12256089106618992, 0.7193015402865224, 0.1576632821967977, 0.9989923410312157, 0.9955123576048717, 0.9869171778941326, 0.995955881644679, 0.9988235896701089, 0.9967896004741547, 0.9982673883227814, 0.9980782144292213, 0.9833408896894493, 0.9000916765046936, 0.09857198669686357, 0.9328761955370539, 0.5228013725619125, 0.47566354388829746, 0.6254874068630702, 0.2307666118082304, 0.1432950770466345, 0.9972576917250473, 0.9909406915566761, 0.9947191342966418, 0.996820590440698, 0.9949628779921084, 0.9996938919126421, 0.891672378405884, 0.10760478243289073, 0.9966620297788784, 0.9951313717409666, 0.49266557339706474, 0.5060466136621702, 0.9979959269867241, 0.601784400610713, 0.3972075696338701, 0.9884593847755236, 0.9977282857877017, 0.9966136375342567, 0.0026388710614322773, 0.9948646106808674, 0.9968786620431176, 0.442868864986472, 0.9988557769171643, 0.5532838366947705, 0.44262706935581647, 0.991946509137198, 0.9926470868900494, 0.9922785040253638, 0.6905982940112864, 0.3078716170854511, 0.0014488076098138876, 0.9567292203955824, 0.9997321420173785, 0.9478656751909782, 0.8741120945734009, 0.12531518523972648, 0.9959203602695033, 0.9836184703530566, 0.0159567306893891, 0.9936149465420714, 0.9986523125718721, 0.991081755352069, 0.9886831271136755, 0.9897655380360493, 0.9957414485857222, 0.9952363930056072, 0.0009001646619206401, 0.8538061818317272, 0.14492651056922307, 0.9979428910090838, 0.9994179547131719, 0.9971279506370748, 0.9965659272551364, 0.997455348750594, 0.06953591197474317, 0.6915489327899116, 0.23813668484501085, 0.998242692346316, 0.9937626347141794, 0.004311334640842427, 0.992264407839013, 0.8888802692337139, 0.016742607810908992, 0.09436742584330524, 0.004707901527844234, 0.9933672223751333, 0.9996418830317122, 0.9869721417360715, 0.3148772411323324, 0.21751388367694013, 0.4661011793077289, 0.10501204590826226, 0.8938830249264275, 0.9975889508100304, 0.9248542867227263, 0.0025207257746599245, 0.03125699960578306, 0.04133990270442276, 0.9896506243659291, 0.9301640647106709, 0.9940444005366214, 0.9960159433646757, 0.4006932988321359, 0.04097999647146844, 0.5509532858941868, 0.007792884078858969, 0.6173695942473828, 0.015152830153336884, 0.30825185911931036, 0.05022080850820224, 0.9892935610047376, 0.9948561033558434, 0.9990206168642741, 0.996869662727939, 0.590102202987484, 0.40554348929592515, 0.9955727033257838, 0.6929028380332858, 0.3059749165968767, 0.9717136607979856, 0.9993164111008794, 0.9973140362214746, 0.9916563641147904, 0.9958287462487955, 0.9921680499840303, 0.9556971351364874, 0.04417906539040186, 0.9924373010489611, 0.9954058229294955, 0.21880152076184645, 0.7775268327072757, 0.7151171180177357, 0.2846237285642729, 0.9549469119093926, 0.9962418304226877, 0.9999083912497148, 0.9980156856565705, 0.9990975774584764, 0.9896943662583099, 0.008149225777160029, 0.002037306444290007, 0.995260291479649, 0.8034911937517035, 0.19607618531273371, 0.9992846294294828, 0.9872098443301924, 0.012532937476848145, 0.9982415362517599, 0.06631662931359444, 0.2379596698899565, 0.6553643367461097, 0.0390097819491732, 0.19283165897622528, 0.6230521952163862, 0.11083140011060716, 0.06327873857666422, 0.009735190550256035, 0.9990039909902102, 0.9994493360303495, 0.9986381555388638, 0.9868293801162257, 0.9978480293862341, 0.9991385221428043, 0.9989299156740457, 0.9251704355439841, 0.963518205611589, 0.9977932940826301, 0.9951552346362745, 0.9993207209515659, 0.36916667883582227, 0.4225941627009506, 0.20819484035185495, 0.9710302986425277, 0.36852109296148433, 0.01103356565752947, 0.025156529699167193, 0.5565330517657865, 0.03839680848820256, 0.9906861650530393, 0.6654767339204162, 0.3319939858260689, 0.9953438823698119, 0.9992187163199793, 0.9997736535906766, 0.14489099012290352, 0.7618614480645483, 0.09280599367349376, 0.9936285170772428, 0.9949898666071422, 0.002771559517011538, 0.9976868820406849, 0.9933350128047717, 0.1126474973253442, 0.8810643540803706, 0.9981555874147169, 0.9988508553969425, 0.9646011077436276, 0.03468726248198202, 0.9891606252455388, 0.9846631411588546, 0.9946101771947844, 0.049177357614805794, 0.5111220447178176, 0.11447843903774464, 0.3244899416386776, 0.07731872654371906, 0.054767431301801006, 0.8666140600108512, 0.9976081113971184, 0.8286192341177228, 0.33725294498184333, 0.5680284079945181, 0.09444864509399047, 0.9958754114967594, 0.9954286492876084, 0.991369571713876, 0.006837031529061214, 0.9588002733035781, 0.04005769335904437, 0.9968294605929459, 0.9768757615430567, 0.9531368821960358, 0.04571166679919763, 0.9980520266835191, 0.9967616759197756, 0.9983914753904409, 0.9973510492187201, 0.9243075255427479, 0.9941437554745398, 0.9806410208782164, 0.9985413602718751, 0.6966362487937168, 0.2146798917700206, 0.05366997294250515, 0.034348782683203294, 0.9734259470980051, 0.005037284888975438, 0.994024218091153, 0.9559946901184672, 0.9995815224268273, 0.9659221026225686, 0.03240512860411198, 0.9991422052810749, 0.9822684375168177, 0.7553590381332317, 0.14295590084701068, 0.1015647762708689, 0.9957585751033989, 0.9955120166129167, 0.9974529049262444, 0.9961853485420956, 0.8978611782378658, 0.10141372607165768, 0.9966111528578705, 0.1597940883903483, 0.8396823116053335, 0.9882448564006833, 0.9915859121458553, 0.9621934866064253, 0.9835080600583314, 0.016241417505550425, 0.013298679495172378, 0.22198565003480047, 0.763139607953738, 0.9976854481883625, 0.780174975066233, 0.21836419139082064, 0.9130412099340225, 0.086368763101867, 0.9866901483072289, 0.6213287187068528, 0.37820008964764956, 0.09764986070993886, 0.9022940910977183, 0.9993794197196004, 0.29917703664126477, 0.09636413914287928, 0.6039566395117667, 0.9874606972607273, 0.9996103095342374, 0.7414573880771441, 0.23497393554522056, 0.023401875694544324, 0.7326289662485712, 0.26662377533699333, 0.999220199710982, 0.9988308494142176, 0.21538778723832766, 0.0059593458919695395, 0.6946894639781634, 0.07491749121333136, 0.008513351274242199, 0.9887921301899636, 0.9920322876067085, 0.7547537122875185, 0.24508740824640127, 0.9963503790663453, 0.9993204308533614, 0.9709114233625161, 0.6396762761109588, 0.3597920284404033, 0.7562523564941189, 0.24361204635321015, 0.9965992930945959, 0.6621046652118593, 0.0718401563564658, 0.6799647920108802, 0.12171644325362997, 0.1262922493909845, 0.9965348394086455, 0.3672738492734657, 0.5668024308499158, 0.02976532569661329, 0.03581929024507701, 0.994390506469701, 0.9981525577173925, 0.9968174422124945, 0.9985651782474909, 0.9994452253607657, 0.04826273433360063, 0.9513661300292499, 0.9925543367751811, 0.9866338804391986, 0.9670354310719816, 0.03164124109846975, 0.9985432127921355, 0.9991065961288838, 0.09998032060832733, 0.48130061316101763, 0.17438428013080348, 0.24355671124935552, 0.9863575924523402, 0.996647659911819, 0.9965979166155217, 0.9981962724654889, 0.30012645165017243, 0.6952296285060956, 0.9967895980236439, 0.9986046125536717, 0.9991244506271183, 0.9942960540710593, 0.993540259383813, 0.998934817765521, 0.9983525941689024, 0.9975338161757901, 0.9946315074601463, 0.9499230454549284, 0.9961292974171341, 0.38206884379550715, 0.6146324878449463, 0.9962122179625365, 0.9980954656284954, 0.9987270638762218, 0.9786270276570334, 0.9891209500248758, 0.978084871660804, 0.9679918321211556, 0.03169484796531964, 0.8993307097353238, 0.09921441993521365, 0.9958958758285705, 0.9983836133155066, 0.4354816024602361, 0.008091368506883852, 0.31494095880640227, 0.21763706573644004, 0.02365169255858357, 0.38640771946924407, 0.03410944430881858, 0.32939266292384656, 0.12498497111698487, 0.12498497111698487, 0.996850613378715, 0.9997874718073801, 0.9910859950385035, 0.9976596017639853, 0.9969351906175922, 0.9977107615882138, 0.3924229252037706, 0.2822963335457955, 0.12284543745509341, 0.20195045399814598, 0.9978850286647216, 0.23835850928393612, 0.7563298852278741, 0.9877942557570037, 0.33115249236092476, 0.6650645888248572, 0.9977432778265117, 0.9926958786811894, 0.995129914224188, 0.47638390124309526, 0.520357799819381, 0.9958721579529208, 0.9967800071615309, 0.9852633646948686, 0.9966691546669973, 0.049102100752425264, 0.0006363123207657702, 0.9501203469567558, 0.9906098522915096, 0.9978883089031315, 0.9915595037585101, 0.9984893222615645, 0.9866021319907783, 0.04912752141450977, 0.945704787229313, 0.9978148040703908, 0.9913079549694742, 0.2923293860260353, 0.5146819076917307, 0.0057969000061820035, 0.1602428787423168, 0.0252579214555073, 0.0016562571446234295, 0.9960274460000558, 0.9907380510621385, 0.9974224974581263, 0.9986166168278814, 0.9969261838006402, 0.11369171026468494, 0.4922825620073774, 0.3907993575429271, 0.003052126450058656, 0.9960913831097931, 0.9979775059098932, 0.9968786095710999, 0.9895070631008589, 0.8179462589403905, 0.18133254369834642, 0.9993987632825643, 0.722090005010023, 0.2775034023277956, 0.9984417270954402, 0.9984825819097672, 0.9947208703530602, 0.9143675733168771, 0.9826558260112748, 0.9956903683220872, 0.9991298907858184, 0.9985957774392115, 0.9898938476012691, 0.9612130601227362, 0.1901031966380288, 0.6353379937295777, 0.137398724190796, 0.03670958279906763, 0.9980479744622855, 0.9953292066107234, 0.9976917668782658, 0.8439787264837374, 0.16577519255758508, 0.8186067030719688, 0.01467037102279514, 0.9773344978521278, 0.998184472664872, 0.0458367185508425, 0.37462039898320154, 0.5445264309047455, 0.0344636981585282, 0.4453039278695297, 0.033356099465882375, 0.16066521242733345, 0.182346677080157, 0.14231935772109813, 0.03613577442137258, 0.9917511336949109, 0.9901313831265707, 0.9987493737776706, 0.9810341479669571, 0.9992428709399882, 0.9876612600038737, 0.996521876341221, 0.9925249260262065, 0.5186224532058684, 0.4805584199430524, 0.9991885845914651, 0.6330983222841177, 0.0069729781033951435, 0.3597094911268667, 0.9921016830497591, 0.9969026644899549, 0.9947223447050283, 0.9916973721370116, 0.008213554036424655, 0.9899683560945474, 0.9972726295078653, 0.9907989002549293, 0.16390083338594455, 0.8321119233440262, 0.9990646253318453, 0.9482215516716951, 0.9907359410889786, 0.5319217311191891, 0.46737113597753716, 0.9831042247808907, 0.9987021476381958, 0.9814288435511498, 0.9991878015565435, 0.9994392082061201, 0.9914510734194634, 0.9981291430874227, 0.0002969305793155653, 0.7007561671847341, 0.2984152322121431, 0.0002969305793155653, 0.994805136149088, 0.9902325151942621, 0.9980026093085461, 0.9935079281178015, 0.060308443690298134, 0.938671744534479, 0.11302783869147151, 0.8861650074923062, 0.9993918528496293, 0.27340212748200293, 0.5233924617543714, 0.2027699377986988, 0.1933849264736189, 0.8043443844477954, 0.9963605222064682, 0.0034694415144891264, 0.9997984374814485, 0.9984925927010451, 0.9941391456757236, 0.9993247142702332, 0.9962522268694676, 0.0015615238665665637, 0.9987695850568836, 0.6634659103493178, 0.33574909264650704, 0.9788019552269357, 0.020837889052731925, 0.006837922478768618, 0.8595268555812153, 0.1326556960881112, 0.9988251932562551, 0.9946670991903652, 0.9835758443835468, 0.9929870452483326, 0.996238566581523, 0.997194241857885, 0.9961605418114688, 0.5311714932703774, 0.06111701933793866, 0.3994966142089649, 0.007950181377292833, 0.8873757084132143, 0.9983913746238895, 0.27868471068122447, 0.718620952071082, 0.9949267353769714, 0.9922928706507013, 0.07342948232856056, 0.9137891134220869, 0.9966769042434307, 0.998506758817344, 0.2713925371430397, 0.593218066089664, 0.13522345927336124, 0.9869240734136022, 0.9946103992781841, 0.9996763647679089, 0.99399764930361, 0.9989841510317058, 0.9944683004403276, 0.9966734715961634, 0.5042917319075361, 0.4912312628516588, 0.0032651172639693114, 0.001125902504817004, 0.9857074247908159, 0.9910492429050118, 0.9984872302627233, 0.9844373968497481, 0.998957820914316, 0.9988297999767584, 0.9968303920648478, 0.9966725404632263, 0.9983102177314421, 0.9089525435646935, 0.9988215536993237, 0.9981963709620549, 0.9892223131932256, 0.9878020014541434, 0.07584312389049747, 0.9213535050401174, 0.9984253190213161, 0.9961259848127213, 0.9988809605270437, 0.827238841736753, 0.1725905612375175, 0.9130185933451542, 0.08579784653775385, 0.08680080447825812, 0.9117925213778089, 0.9995878330681792, 0.9884718582205779, 0.9921797755486474, 0.9904136224850878, 0.997660542705318, 0.9975573100953354, 0.03981462055231994, 0.9592545788884526, 0.2622127431514394, 0.09815696711995885, 0.6396331941901544, 0.9843111663474923, 0.9889974628495817, 0.9914855993592963, 0.9969638341378502, 0.9953409411217242, 0.9974600546024451, 0.3637239641954055, 0.26426819273572427, 0.2742137698816924, 0.02131195102707454, 0.07530222696233003, 0.9909150947798296, 0.9989970138807709, 0.9928260378661737, 0.38418633836623395, 0.6146981413859743, 0.9956266881702396, 0.9959733200988689, 0.9990931226350886, 0.20553638758588993, 0.6455127172619355, 0.0963451816808859, 0.05191934790581074, 0.9571543143180051, 0.9994000500901788, 0.9916976867390056, 0.9940817400164281, 0.9984686150593964, 0.9853883034141333, 0.9270790829972313, 0.6515833530380477, 0.34779737460350485, 0.9954951760048821, 0.4642819946846938, 0.5315692402911711, 0.8575436945708849, 0.14006547011324452, 0.9992795536877217, 0.9932567004530791, 0.0014485757414217273, 0.9980686858395702, 0.9977668305803287, 0.9932805488327918, 0.974968254901805, 0.9536243025054232, 0.9994859671453098, 0.989562198469881, 0.5021936966018796, 0.0954035518610431, 0.1788816597394558, 0.2226082876757672, 0.9638696325394625, 0.9910929572576547, 0.9520125707124611, 0.04593546782689801, 0.9923268218539274, 0.002034831377604082, 0.16583875727473268, 0.5906098073495848, 0.24163622609048474, 0.9606241873162038, 0.0390353382359743, 0.9946847369859855, 0.2066943878334727, 0.7310535397882303, 0.05191483690681994, 0.010228573814354857, 0.9317649426726967, 0.04951606420818521, 0.018491476260318128, 0.9994968927420257, 0.9963136286977021, 0.9990485444959145, 0.9805795841871096, 0.9875217273988771, 0.991759528983744, 0.9992074202798722, 0.9964136263362142, 0.5942797840686509, 0.11574861153755422, 0.23615824098937238, 0.05282486969499119, 0.8281953471611017, 0.9790168720275154, 0.8817409221921403, 0.11801225164832017, 0.9962410426236947, 0.9993083142545693, 0.9892368560035721, 0.999675614443063, 0.9453363977361809, 0.9974430941704564, 0.9852981213606692, 0.6985363800063136, 0.30118209623505166, 0.7394125117064416, 0.2604965962090464, 0.9958715094145153, 0.9929470614714049, 0.0068091181913662235, 0.9918410761479116, 0.5018664446915913, 0.15188063457771842, 0.2707437398994111, 0.07373914867179082, 0.9731984308933161, 0.024534414224201245, 0.9921706929910261, 0.9988268839767315, 0.9976353137490026, 0.9900660993531811, 0.994692143453945, 0.4040975620227717, 0.46218658656354517, 0.13385731742004314, 0.25084579323590905, 0.7459361746225717, 0.9969766626530765, 0.9906797594579801, 0.9992477504597742, 0.9982894194329821, 0.8022085930247966, 0.10919270920884282, 0.08864693517166097, 0.9970285116440477, 0.9977281700898238, 0.8468378037069091, 0.15244372362687303, 0.9882252532086783, 0.9988678493039242, 0.9980309646964165, 0.9964991930067212, 0.9976491882319121, 0.9992797560228106, 0.9961206889648524, 0.9926181062937633, 0.9708405711963075, 0.8784833925305507, 0.9959090424323143, 0.9807773670298129, 0.14994829786925284, 0.12606704132886265, 0.14539948709965472, 0.528961709493269, 0.049549545883122555, 0.92441748847147, 0.07471046512431061, 0.935498060535332, 0.03273150522479475, 0.9101876260587156, 0.055391778072729575, 0.9829180851484488, 0.9994760337548176, 0.9958461990884568, 0.5648255026153184, 0.4236191269614888, 0.9988194665876288, 0.9987013643130199, 0.998488057902334, 0.9317340833733232, 0.06705002282219243, 0.5650047219861585, 0.43375716617067694, 0.9953636545747914, 0.995950121199581, 0.9700529851709185, 0.876497530894776, 0.005201148414993923, 0.11817009198866193, 0.997944185494013, 0.9948422234444839, 0.7096716595761422, 0.28135303667897427, 0.008826761935026644, 0.9983901138418696, 0.9987472665343735, 0.9977214956416401, 0.9284531706246172, 0.0713337369987701, 0.9946872187899648, 0.9987901712304974, 0.9950388833138178, 0.9994011154489205, 0.9978274345034888, 0.9911911903632539, 0.9928982801549239, 0.9981996255236785, 0.9989389242344945, 0.9993644534051125, 0.7293894800180064, 0.0006088392988464161, 0.26464214856524215, 0.005276607256668939, 0.9741292467310255, 0.11723083272639309, 0.7442936723618395, 0.10685101941207704, 0.031139439942948165, 0.23162758148950519, 0.11450832128386167, 0.6537791060141782, 0.7060090323489687, 0.013328431999825557, 0.14342984286379443, 0.0029839773133937815, 0.13408004728182724, 0.5907216743369813, 0.3746351744171764, 0.03196545856801847], \"Term\": [\"absolute\", \"accept\", \"accessible\", \"accomplish\", \"address\", \"address\", \"adequately\", \"agency\", \"agree\", \"agree\", \"alarm\", \"algorithm\", \"also\", \"also\", \"also\", \"also\", \"also\", \"animal\", \"apple\", \"applicable\", \"application\", \"application\", \"apply\", \"apply\", \"appreciate\", \"approval\", \"apr\", \"arab\", \"argument\", \"armenian\", \"article\", \"article\", \"article\", \"associate\", \"assure\", \"atheism\", \"atheist\", \"attack\", \"attack\", \"author\", \"authority\", \"auto\", \"automatically\", \"available\", \"available\", \"available\", \"average\", \"aware\", \"aware\", \"ax\", \"back\", \"bad\", \"belief\", \"believe\", \"bible\", \"big\", \"bike\", \"bio\", \"birth\", \"birthday\", \"bit\", \"bit\", \"bit\", \"black\", \"black\", \"blank\", \"blind\", \"block\", \"block\", \"blue\", \"book\", \"book\", \"box\", \"boy\", \"bug\", \"bus\", \"button\", \"buy\", \"buy\", \"cable\", \"campaign\", \"canadian\", \"cap\", \"capture\", \"car\", \"card\", \"card\", \"carry\", \"carry\", \"carry\", \"case\", \"case\", \"case\", \"case\", \"cbr\", \"cd\", \"center\", \"center\", \"ceremonial\", \"certainly\", \"character\", \"cheap\", \"child\", \"chip\", \"chip\", \"chip\", \"christian\", \"church\", \"circuit\", \"city\", \"claim\", \"clear\", \"click\", \"clipper\", \"clipper_chip\", \"clock\", \"closed\", \"club\", \"code\", \"com\", \"combination\", \"come\", \"come\", \"communication\", \"community\", \"community\", \"complete\", \"complete\", \"complexity\", \"computer\", \"computer\", \"computer_science\", \"concept\", \"conclusion\", \"conclusion\", \"connector\", \"contact\", \"contact\", \"control\", \"control\", \"control\", \"control\", \"control\", \"controller\", \"convert\", \"converter\", \"convince\", \"cool\", \"copy\", \"copy\", \"corner\", \"corporation\", \"correctly\", \"correctly\", \"cost\", \"cost\", \"country\", \"couple\", \"cover\", \"cover\", \"cover\", \"cpu\", \"crash\", \"create\", \"create\", \"create\", \"crew\", \"crime\", \"crypto\", \"cryptography\", \"cure\", \"cycle\", \"danger\", \"daughter\", \"day\", \"day\", \"dealer\", \"dealer\", \"death\", \"deck\", \"defense\", \"defense\", \"deficit\", \"define\", \"define\", \"department\", \"department\", \"dept\", \"depth\", \"describe\", \"describe\", \"describe\", \"description\", \"design\", \"design\", \"design\", \"detailed\", \"deter\", \"development\", \"device\", \"dialog\", \"die\", \"different\", \"different\", \"different\", \"direct\", \"directory\", \"dirty\", \"discount\", \"discussion\", \"disease\", \"disk\", \"display\", \"distribution_inet\", \"distribution_world\", \"distribution_world\", \"divide\", \"division\", \"division\", \"do\", \"do\", \"do\", \"doctor\", \"dog\", \"door\", \"doubt\", \"draft\", \"drive\", \"driver\", \"driver\", \"drug\", \"dual\", \"earth\", \"earth\", \"electronic\", \"email\", \"email\", \"enable\", \"encryption\", \"end\", \"end\", \"energy\", \"engine\", \"enhanced_mode\", \"entry\", \"environment\", \"environment\", \"environmental\", \"escape\", \"essentially\", \"even\", \"even\", \"even\", \"everytime\", \"evidence\", \"evolve\", \"example\", \"example\", \"excuse\", \"exist\", \"exist\", \"expansion\", \"explain\", \"export\", \"exposure\", \"extension\", \"external\", \"facility\", \"fact\", \"fact\", \"fact\", \"factor\", \"faith\", \"family\", \"fan\", \"faq\", \"fast\", \"fast\", \"fast\", \"fax\", \"feature\", \"feature\", \"fee\", \"field\", \"field\", \"field\", \"fight\", \"fight\", \"file\", \"film\", \"final\", \"final\", \"final\", \"fire\", \"fire\", \"firearm\", \"first\", \"first\", \"first\", \"first\", \"fish\", \"flexible\", \"flight\", \"floppy\", \"fly\", \"fly\", \"fly\", \"follow\", \"follow\", \"follow\", \"follow\", \"follow\", \"follower\", \"font\", \"force\", \"format\", \"front\", \"front\", \"fuel\", \"function\", \"function\", \"galaxy\", \"game\", \"gateway\", \"gear\", \"generate\", \"genesis\", \"get\", \"get\", \"giant\", \"gift\", \"girl\", \"girl\", \"give\", \"give\", \"global\", \"gmt\", \"go\", \"goal\", \"god\", \"good\", \"good\", \"good\", \"good_luck\", \"government\", \"government\", \"graphic\", \"great\", \"great\", \"greek\", \"ground\", \"ground\", \"ground\", \"ground\", \"group\", \"group\", \"group\", \"group\", \"group\", \"guess\", \"gun\", \"guy\", \"handgun\", \"handle\", \"hard\", \"hardware\", \"harley\", \"hassle\", \"headache\", \"health\", \"hear\", \"help\", \"help\", \"help\", \"hi\", \"high\", \"high\", \"high\", \"high\", \"high\", \"highway\", \"hit\", \"hit\", \"hole\", \"home\", \"host\", \"however\", \"however\", \"however\", \"hr\", \"human\", \"human\", \"human_being\", \"hunt\", \"ice\", \"ice\", \"ide\", \"ill\", \"image\", \"image\", \"import\", \"impressive\", \"improve\", \"include\", \"include\", \"include\", \"include\", \"increase\", \"increase\", \"increase\", \"indeed\", \"infinity\", \"information\", \"information\", \"information\", \"informed\", \"inhabitant\", \"input\", \"input\", \"instal\", \"instal\", \"insurance\", \"intent\", \"interested\", \"interested\", \"interface\", \"internal\", \"internet\", \"interpretation\", \"intersection\", \"investigation\", \"investment\", \"israeli\", \"issue\", \"issue\", \"issue\", \"issue\", \"japanese\", \"jewish\", \"jewish\", \"judaism\", \"key\", \"keyword\", \"keyword\", \"kill\", \"km\", \"know\", \"know\", \"know\", \"lab\", \"laboratory\", \"land\", \"language\", \"last\", \"last\", \"launch\", \"law\", \"law\", \"leadership\", \"left\", \"lemieux\", \"let\", \"let\", \"level\", \"level\", \"level\", \"library\", \"license\", \"license\", \"life\", \"life\", \"lift\", \"light\", \"light\", \"line\", \"line\", \"little\", \"live\", \"live\", \"live\", \"lock\", \"long\", \"look\", \"look\", \"look\", \"lose\", \"lose\", \"lot\", \"love\", \"low\", \"low\", \"low\", \"low\", \"low\", \"luck\", \"lunar\", \"m\", \"m\", \"mac\", \"machine\", \"mad\", \"mail\", \"mail\", \"make\", \"make\", \"male\", \"malfunction\", \"man\", \"man\", \"man\", \"man\", \"manager\", \"many\", \"many\", \"many\", \"many\", \"mar\", \"master\", \"material\", \"matter\", \"maybe\", \"mean\", \"mean\", \"medical\", \"medicine\", \"meet\", \"meet\", \"member\", \"memory\", \"message\", \"message\", \"message\", \"message\", \"meter\", \"mhz\", \"mile\", \"military\", \"mirror\", \"mirror\", \"mission\", \"mode\", \"model\", \"modem\", \"modify\", \"money\", \"monitor\", \"moon\", \"moral\", \"moral_agency\", \"morality\", \"mother\", \"mother\", \"motif\", \"mouse\", \"move\", \"movie\", \"mph\", \"ms_window\", \"much\", \"much\", \"murder\", \"murder\", \"muslim\", \"national\", \"need\", \"need\", \"need\", \"need\", \"need\", \"new\", \"new\", \"new\", \"new\", \"new\", \"nhl\", \"nntp_poste\", \"noise\", \"normal\", \"northern\", \"notice\", \"number\", \"number\", \"number\", \"number\", \"object\", \"observation\", \"observation\", \"observe\", \"obtain\", \"obtain\", \"occupy\", \"offense\", \"oil\", \"operate\", \"operate\", \"operation\", \"opinions_expresse\", \"oracle\", \"orbit\", \"organization\", \"organization\", \"organization\", \"origin\", \"originator\", \"ozone\", \"package\", \"paint\", \"panel\", \"panel\", \"parent\", \"park\", \"part\", \"part\", \"part\", \"part\", \"part\", \"part\", \"particularly\", \"passage\", \"patient\", \"pc\", \"pen\", \"people\", \"people\", \"people\", \"people\", \"percent\", \"period\", \"pgp\", \"phase\", \"phone\", \"phone\", \"physical\", \"pick\", \"pick\", \"picture\", \"pin\", \"pitch\", \"pitt\", \"plane\", \"planet\", \"play\", \"player\", \"please_respond\", \"plot\", \"point\", \"point\", \"point\", \"point\", \"police\", \"popular\", \"port\", \"portal\", \"position\", \"position\", \"position\", \"positively\", \"possibility\", \"post\", \"post\", \"post\", \"post\", \"power\", \"power\", \"power\", \"power\", \"power\", \"power\", \"pp\", \"presence\", \"pretty\", \"prevention\", \"price\", \"primary\", \"printer\", \"privacy\", \"private\", \"private\", \"probably\", \"problem\", \"problem\", \"problem\", \"proceed\", \"processor\", \"production\", \"program\", \"program\", \"programmer\", \"proof\", \"property\", \"proposal\", \"proposal\", \"prove\", \"provision\", \"pub\", \"public\", \"public\", \"public_access\", \"publish\", \"publisher\", \"purpose\", \"put\", \"qualified\", \"quality\", \"question\", \"question\", \"question\", \"question\", \"quick\", \"radiation\", \"radio\", \"ram\", \"rate\", \"rate\", \"rather\", \"rather\", \"re\", \"read\", \"read\", \"read\", \"reality\", \"reality\", \"really\", \"really\", \"reason\", \"reference\", \"reflect\", \"religion\", \"religious\", \"religious\", \"remember\", \"remove\", \"remove\", \"reply\", \"reply\", \"report\", \"report\", \"report\", \"research\", \"resource\", \"responce\", \"restriction\", \"revelation\", \"ride\", \"rider\", \"right\", \"right\", \"right\", \"right\", \"rip\", \"risk\", \"road\", \"road\", \"rocket\", \"role\", \"routine\", \"routine\", \"rsa\", \"rule\", \"run\", \"run\", \"run\", \"runner\", \"russian\", \"s\", \"sabbath\", \"sale\", \"satellite\", \"saturn\", \"say\", \"say\", \"say\", \"say\", \"sc\", \"scale\", \"scan\", \"scare\", \"school\", \"science\", \"scientific\", \"score\", \"screen\", \"script\", \"scsi\", \"season\", \"second_amendment\", \"secrecy\", \"secret\", \"secret\", \"section\", \"secure\", \"security\", \"see\", \"see\", \"self\", \"self\", \"sell\", \"sell\", \"sense\", \"sensor\", \"serdar_argic\", \"serial\", \"serious\", \"server\", \"service\", \"service\", \"set\", \"set\", \"set\", \"seventh\", \"shareware\", \"shuttle\", \"signal\", \"sister\", \"site\", \"size\", \"size\", \"size\", \"size\", \"size\", \"sky\", \"software\", \"solar\", \"soldier\", \"soldier\", \"solid\", \"somehow\", \"soon\", \"source\", \"source\", \"source\", \"source\", \"soviet_union\", \"space\", \"space_station\", \"spacecraft\", \"speak\", \"spec\", \"spectrum\", \"speed\", \"speed\", \"split\", \"sport\", \"sport\", \"star\", \"star\", \"start\", \"stat\", \"state\", \"state\", \"statement\", \"status\", \"stereo\", \"steve\", \"still\", \"strip\", \"study\", \"study\", \"study\", \"study\", \"subscription\", \"sufficient\", \"suggest\", \"suggest\", \"suitable\", \"support\", \"support\", \"support\", \"support\", \"sure\", \"sure\", \"surface\", \"system\", \"system\", \"system\", \"system\", \"take\", \"take\", \"take\", \"talk\", \"tap\", \"tape\", \"tavare\", \"tc\", \"teaching\", \"team\", \"technical\", \"technology\", \"technology\", \"technology\", \"technology\", \"tel_fax\", \"television\", \"tell\", \"tell\", \"terrorism\", \"test\", \"testing\", \"thank\", \"theft\", \"therefore\", \"thermal\", \"thing\", \"thing\", \"think\", \"think\", \"though\", \"time\", \"time\", \"tire\", \"today\", \"today\", \"today\", \"today\", \"top\", \"top\", \"tour\", \"trade\", \"transfer\", \"translate\", \"travel\", \"treat\", \"treat\", \"treat\", \"treatment\", \"treatment\", \"trial\", \"trivial\", \"true\", \"truth\", \"try\", \"try\", \"try\", \"turk\", \"turkish\", \"type\", \"type\", \"typically\", \"understand\", \"unit\", \"united_state\", \"universe\", \"university\", \"unix\", \"unknown\", \"unnecessary\", \"upcoming\", \"upgrade\", \"upper\", \"use\", \"use\", \"use\", \"use\", \"use\", \"user\", \"user\", \"user_interface\", \"value\", \"value\", \"value\", \"variation\", \"ve\", \"vehicle\", \"vendor\", \"vendor\", \"version\", \"version_pl\", \"video\", \"view\", \"view\", \"village\", \"village\", \"violate\", \"violence\", \"visualization\", \"want\", \"want\", \"want\", \"war\", \"warrant\", \"way\", \"way\", \"way\", \"weapon\", \"week\", \"weight\", \"well\", \"well\", \"widget\", \"win\", \"wind\", \"window\", \"wing\", \"wiretap\", \"wiring\", \"withdraw\", \"woman\", \"word\", \"work\", \"work\", \"work\", \"work\", \"workshop\", \"world\", \"world\", \"world\", \"world\", \"write\", \"write\", \"write\", \"year\", \"year\", \"year\", \"year\", \"year\", \"young\", \"young\", \"young\"]}, \"R\": 30, \"lambda.step\": 0.01, \"plot.opts\": {\"xlab\": \"PC1\", \"ylab\": \"PC2\"}, \"topic.order\": [19, 4, 12, 7, 14, 11, 1, 10, 2, 20, 17, 5, 3, 6, 9, 18, 16, 8, 15, 13]};\n",
              "\n",
              "function LDAvis_load_lib(url, callback){\n",
              "  var s = document.createElement('script');\n",
              "  s.src = url;\n",
              "  s.async = true;\n",
              "  s.onreadystatechange = s.onload = callback;\n",
              "  s.onerror = function(){console.warn(\"failed to load library \" + url);};\n",
              "  document.getElementsByTagName(\"head\")[0].appendChild(s);\n",
              "}\n",
              "\n",
              "if(typeof(LDAvis) !== \"undefined\"){\n",
              "   // already loaded: just create the visualization\n",
              "   !function(LDAvis){\n",
              "       new LDAvis(\"#\" + \"ldavis_el6041404793460966408795207364\", ldavis_el6041404793460966408795207364_data);\n",
              "   }(LDAvis);\n",
              "}else if(typeof define === \"function\" && define.amd){\n",
              "   // require.js is available: use it to load d3/LDAvis\n",
              "   require.config({paths: {d3: \"https://d3js.org/d3.v5\"}});\n",
              "   require([\"d3\"], function(d3){\n",
              "      window.d3 = d3;\n",
              "      LDAvis_load_lib(\"https://cdn.jsdelivr.net/gh/bmabey/pyLDAvis@3.4.0/pyLDAvis/js/ldavis.v3.0.0.js\", function(){\n",
              "        new LDAvis(\"#\" + \"ldavis_el6041404793460966408795207364\", ldavis_el6041404793460966408795207364_data);\n",
              "      });\n",
              "    });\n",
              "}else{\n",
              "    // require.js not available: dynamically load d3 & LDAvis\n",
              "    LDAvis_load_lib(\"https://d3js.org/d3.v5.js\", function(){\n",
              "         LDAvis_load_lib(\"https://cdn.jsdelivr.net/gh/bmabey/pyLDAvis@3.4.0/pyLDAvis/js/ldavis.v3.0.0.js\", function(){\n",
              "                 new LDAvis(\"#\" + \"ldavis_el6041404793460966408795207364\", ldavis_el6041404793460966408795207364_data);\n",
              "            })\n",
              "         });\n",
              "}\n",
              "</script>"
            ]
          },
          "metadata": {},
          "execution_count": 44
        }
      ]
    },
    {
      "cell_type": "code",
      "source": [],
      "metadata": {
        "id": "wjkXcSgFEntl"
      },
      "execution_count": 44,
      "outputs": []
    }
  ]
}